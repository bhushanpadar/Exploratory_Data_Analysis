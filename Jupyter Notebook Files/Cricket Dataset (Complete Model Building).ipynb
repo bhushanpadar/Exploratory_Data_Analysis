{
 "cells": [
  {
   "cell_type": "markdown",
   "id": "b3fc8b48",
   "metadata": {},
   "source": [
    "# Importing Libraries"
   ]
  },
  {
   "cell_type": "code",
   "execution_count": null,
   "id": "3980b1ae",
   "metadata": {},
   "outputs": [],
   "source": [
    "import pandas as pd\n",
    "import numpy as np\n",
    "import seaborn as sns\n",
    "import matplotlib.pyplot as plt\n"
   ]
  },
  {
   "cell_type": "markdown",
   "id": "2578701f",
   "metadata": {},
   "source": [
    "# Loading Dataset"
   ]
  },
  {
   "cell_type": "code",
   "execution_count": 124,
   "id": "f1a00eda",
   "metadata": {},
   "outputs": [],
   "source": [
    "df = pd.read_csv(\"Corrected PhD dataset.csv\")"
   ]
  },
  {
   "cell_type": "code",
   "execution_count": 5,
   "id": "4d0977e1",
   "metadata": {},
   "outputs": [
    {
     "data": {
      "text/html": [
       "<div>\n",
       "<style scoped>\n",
       "    .dataframe tbody tr th:only-of-type {\n",
       "        vertical-align: middle;\n",
       "    }\n",
       "\n",
       "    .dataframe tbody tr th {\n",
       "        vertical-align: top;\n",
       "    }\n",
       "\n",
       "    .dataframe thead th {\n",
       "        text-align: right;\n",
       "    }\n",
       "</style>\n",
       "<table border=\"1\" class=\"dataframe\">\n",
       "  <thead>\n",
       "    <tr style=\"text-align: right;\">\n",
       "      <th></th>\n",
       "      <th>Match_No</th>\n",
       "      <th>Home_Team</th>\n",
       "      <th>Away_Team</th>\n",
       "      <th>Match_Venue</th>\n",
       "      <th>Year</th>\n",
       "      <th>Toss_Won</th>\n",
       "      <th>Toss_Decision</th>\n",
       "      <th>Result_Available</th>\n",
       "      <th>Won_by_India</th>\n",
       "    </tr>\n",
       "  </thead>\n",
       "  <tbody>\n",
       "    <tr>\n",
       "      <th>0</th>\n",
       "      <td>1</td>\n",
       "      <td>Zimbabwe</td>\n",
       "      <td>India</td>\n",
       "      <td>Bulawayo</td>\n",
       "      <td>2005</td>\n",
       "      <td>Zimbabwe</td>\n",
       "      <td>Batting</td>\n",
       "      <td>Available</td>\n",
       "      <td>Yes</td>\n",
       "    </tr>\n",
       "    <tr>\n",
       "      <th>1</th>\n",
       "      <td>2</td>\n",
       "      <td>Zimbabwe</td>\n",
       "      <td>India</td>\n",
       "      <td>Harare</td>\n",
       "      <td>2005</td>\n",
       "      <td>India</td>\n",
       "      <td>Bowling</td>\n",
       "      <td>Available</td>\n",
       "      <td>Yes</td>\n",
       "    </tr>\n",
       "    <tr>\n",
       "      <th>2</th>\n",
       "      <td>3</td>\n",
       "      <td>India</td>\n",
       "      <td>Pakistan</td>\n",
       "      <td>Mohali</td>\n",
       "      <td>2005</td>\n",
       "      <td>India</td>\n",
       "      <td>Batting</td>\n",
       "      <td>drawn</td>\n",
       "      <td>No</td>\n",
       "    </tr>\n",
       "    <tr>\n",
       "      <th>3</th>\n",
       "      <td>4</td>\n",
       "      <td>India</td>\n",
       "      <td>Pakistan</td>\n",
       "      <td>Kolkata</td>\n",
       "      <td>2005</td>\n",
       "      <td>India</td>\n",
       "      <td>Batting</td>\n",
       "      <td>Available</td>\n",
       "      <td>Yes</td>\n",
       "    </tr>\n",
       "    <tr>\n",
       "      <th>4</th>\n",
       "      <td>5</td>\n",
       "      <td>India</td>\n",
       "      <td>Pakistan</td>\n",
       "      <td>Bengaluru</td>\n",
       "      <td>2005</td>\n",
       "      <td>Pakistan</td>\n",
       "      <td>Batting</td>\n",
       "      <td>Available</td>\n",
       "      <td>No</td>\n",
       "    </tr>\n",
       "  </tbody>\n",
       "</table>\n",
       "</div>"
      ],
      "text/plain": [
       "   Match_No Home_Team Away_Team Match_Venue  Year  Toss_Won Toss_Decision  \\\n",
       "0         1  Zimbabwe     India    Bulawayo  2005  Zimbabwe       Batting   \n",
       "1         2  Zimbabwe     India      Harare  2005     India       Bowling   \n",
       "2         3     India  Pakistan      Mohali  2005     India       Batting   \n",
       "3         4     India  Pakistan     Kolkata  2005     India       Batting   \n",
       "4         5     India  Pakistan   Bengaluru  2005  Pakistan       Batting   \n",
       "\n",
       "   Result_Available Won_by_India  \n",
       "0         Available          Yes  \n",
       "1         Available          Yes  \n",
       "2             drawn           No  \n",
       "3         Available          Yes  \n",
       "4         Available           No  "
      ]
     },
     "execution_count": 5,
     "metadata": {},
     "output_type": "execute_result"
    }
   ],
   "source": [
    "df.head()   #showing first 5 records"
   ]
  },
  {
   "cell_type": "markdown",
   "id": "d7f3d456",
   "metadata": {},
   "source": [
    "# Checking Shape / Data types of Dataset"
   ]
  },
  {
   "cell_type": "code",
   "execution_count": 6,
   "id": "67c0aa65",
   "metadata": {},
   "outputs": [
    {
     "data": {
      "text/plain": [
       "(185, 9)"
      ]
     },
     "execution_count": 6,
     "metadata": {},
     "output_type": "execute_result"
    }
   ],
   "source": [
    "df.shape"
   ]
  },
  {
   "cell_type": "code",
   "execution_count": 7,
   "id": "23d537e4",
   "metadata": {},
   "outputs": [
    {
     "name": "stdout",
     "output_type": "stream",
     "text": [
      "<class 'pandas.core.frame.DataFrame'>\n",
      "RangeIndex: 185 entries, 0 to 184\n",
      "Data columns (total 9 columns):\n",
      " #   Column             Non-Null Count  Dtype \n",
      "---  ------             --------------  ----- \n",
      " 0   Match_No           185 non-null    int64 \n",
      " 1   Home_Team          185 non-null    object\n",
      " 2   Away_Team          185 non-null    object\n",
      " 3   Match_Venue        185 non-null    object\n",
      " 4   Year               185 non-null    int64 \n",
      " 5    Toss_Won          185 non-null    object\n",
      " 6   Toss_Decision      185 non-null    object\n",
      " 7    Result_Available  185 non-null    object\n",
      " 8   Won_by_India       185 non-null    object\n",
      "dtypes: int64(2), object(7)\n",
      "memory usage: 13.1+ KB\n"
     ]
    }
   ],
   "source": [
    "df.info()"
   ]
  },
  {
   "cell_type": "markdown",
   "id": "b6408dfb",
   "metadata": {},
   "source": [
    "# Exploratory Data Analysis (Univariate Analysis)"
   ]
  },
  {
   "cell_type": "code",
   "execution_count": 8,
   "id": "8edaeffb",
   "metadata": {},
   "outputs": [
    {
     "data": {
      "text/plain": [
       "India           85\n",
       "England         22\n",
       "Australia       20\n",
       "South_Africa    14\n",
       "West_Indies     13\n",
       "Sri_Lanka       12\n",
       "Bangladesh       7\n",
       "New_Zealand      7\n",
       "Pakistan         3\n",
       "Zimbabwe         2\n",
       "Name: Home_Team, dtype: int64"
      ]
     },
     "execution_count": 8,
     "metadata": {},
     "output_type": "execute_result"
    }
   ],
   "source": [
    "df['Home_Team'].value_counts()"
   ]
  },
  {
   "cell_type": "code",
   "execution_count": 9,
   "id": "c8b83114",
   "metadata": {},
   "outputs": [
    {
     "data": {
      "text/plain": [
       "India           100\n",
       "England          18\n",
       "Australia        17\n",
       "South_Africa     12\n",
       "Sri_Lanka        11\n",
       "New_Zealand      10\n",
       "West_Indies       7\n",
       "Pakistan          6\n",
       "Bangladesh        3\n",
       "Afghanistan       1\n",
       "Name: Away_Team, dtype: int64"
      ]
     },
     "execution_count": 9,
     "metadata": {},
     "output_type": "execute_result"
    }
   ],
   "source": [
    "df['Away_Team'].value_counts()"
   ]
  },
  {
   "cell_type": "code",
   "execution_count": 10,
   "id": "774d4f1b",
   "metadata": {},
   "outputs": [
    {
     "data": {
      "text/plain": [
       "Index(['Match_No', 'Home_Team', 'Away_Team', 'Match_Venue', 'Year',\n",
       "       ' Toss_Won', 'Toss_Decision', ' Result_Available', 'Won_by_India'],\n",
       "      dtype='object')"
      ]
     },
     "execution_count": 10,
     "metadata": {},
     "output_type": "execute_result"
    }
   ],
   "source": [
    "df.columns"
   ]
  },
  {
   "cell_type": "code",
   "execution_count": 11,
   "id": "1e81680e",
   "metadata": {},
   "outputs": [
    {
     "data": {
      "text/plain": [
       "Mohali           9\n",
       "Kolkata          9\n",
       "Bengaluru        9\n",
       "Nagpur           8\n",
       "Delhi            8\n",
       "Chennai          7\n",
       "Ahmedabad        7\n",
       "Mumbai           7\n",
       "Sydney           5\n",
       "Nottingham       5\n",
       "The_Oval         5\n",
       "Melbourne        5\n",
       "Lords            5\n",
       "Adelaide         5\n",
       "Hyderabad        5\n",
       "Galle            4\n",
       "Cape_Town        4\n",
       "Kanpur           4\n",
       "Colombo_SSC      4\n",
       "Johannesburg     4\n",
       "Kingston         4\n",
       "Durban           3\n",
       "Chattogram       3\n",
       "Birmingham       3\n",
       "Indore           3\n",
       "Centurion        3\n",
       "Wellington       3\n",
       "Colombo_PSS      3\n",
       "Perth            3\n",
       "Ranchi           2\n",
       "Visakhapatnam    2\n",
       "Rajkot           2\n",
       "Gros_Islet       2\n",
       "Pune             2\n",
       "Brisbane         2\n",
       "Dhaka            2\n",
       "North_Sound      2\n",
       "Southampton      2\n",
       "Pallekele        1\n",
       "Dharamsala       1\n",
       "Christchurch     1\n",
       "Leeds            1\n",
       "Port_of_Spain    1\n",
       "Fatullah         1\n",
       "Bulawayo         1\n",
       "Manchester       1\n",
       "Auckland         1\n",
       "Roseau           1\n",
       "Bridgetown       1\n",
       "Napier           1\n",
       "Hamilton         1\n",
       "Harare           1\n",
       "Basseterre       1\n",
       "St_Johns         1\n",
       "Karachi          1\n",
       "Faisalabad       1\n",
       "Lahore           1\n",
       "Mirpur           1\n",
       "Name: Match_Venue, dtype: int64"
      ]
     },
     "execution_count": 11,
     "metadata": {},
     "output_type": "execute_result"
    }
   ],
   "source": [
    "df['Match_Venue'].value_counts()"
   ]
  },
  {
   "cell_type": "code",
   "execution_count": 12,
   "id": "1e6f42b2",
   "metadata": {},
   "outputs": [
    {
     "data": {
      "text/plain": [
       "2008    15\n",
       "2018    14\n",
       "2010    14\n",
       "2021    13\n",
       "2011    12\n",
       "2006    12\n",
       "2016    12\n",
       "2017    11\n",
       "2014    10\n",
       "2007    10\n",
       "2012     9\n",
       "2015     9\n",
       "2019     8\n",
       "2005     8\n",
       "2013     8\n",
       "2022     7\n",
       "2009     6\n",
       "2020     4\n",
       "2023     3\n",
       "Name: Year, dtype: int64"
      ]
     },
     "execution_count": 12,
     "metadata": {},
     "output_type": "execute_result"
    }
   ],
   "source": [
    "df['Year'].value_counts()"
   ]
  },
  {
   "cell_type": "code",
   "execution_count": 13,
   "id": "dd4b9b8b",
   "metadata": {},
   "outputs": [
    {
     "data": {
      "text/plain": [
       "India           79\n",
       "England         25\n",
       "Australia       24\n",
       "West_Indies     11\n",
       "India           10\n",
       "South_Africa     9\n",
       "Sri_Lanka        9\n",
       "New_Zealand      7\n",
       "Bangladesh       6\n",
       "Pakistan         3\n",
       "Zimbabwe         1\n",
       "Pakistan         1\n",
       "Name:  Toss_Won, dtype: int64"
      ]
     },
     "execution_count": 13,
     "metadata": {},
     "output_type": "execute_result"
    }
   ],
   "source": [
    "df[' Toss_Won'].value_counts()"
   ]
  },
  {
   "cell_type": "code",
   "execution_count": 14,
   "id": "05cf5dc1",
   "metadata": {},
   "outputs": [
    {
     "data": {
      "text/plain": [
       "Batting    151\n",
       "Bowling     34\n",
       "Name: Toss_Decision, dtype: int64"
      ]
     },
     "execution_count": 14,
     "metadata": {},
     "output_type": "execute_result"
    }
   ],
   "source": [
    "df['Toss_Decision'].value_counts()"
   ]
  },
  {
   "cell_type": "code",
   "execution_count": 15,
   "id": "d313d6cc",
   "metadata": {},
   "outputs": [
    {
     "data": {
      "text/plain": [
       "Available    139\n",
       "drawn         46\n",
       "Name:  Result_Available, dtype: int64"
      ]
     },
     "execution_count": 15,
     "metadata": {},
     "output_type": "execute_result"
    }
   ],
   "source": [
    "df[' Result_Available'].value_counts()"
   ]
  },
  {
   "cell_type": "code",
   "execution_count": 16,
   "id": "57d0af4b",
   "metadata": {},
   "outputs": [
    {
     "data": {
      "text/plain": [
       "No     94\n",
       "Yes    91\n",
       "Name: Won_by_India, dtype: int64"
      ]
     },
     "execution_count": 16,
     "metadata": {},
     "output_type": "execute_result"
    }
   ],
   "source": [
    "df['Won_by_India'].value_counts()"
   ]
  },
  {
   "cell_type": "markdown",
   "id": "010889f9",
   "metadata": {},
   "source": [
    "# Ploting datapoints"
   ]
  },
  {
   "cell_type": "code",
   "execution_count": 20,
   "id": "fe773c06",
   "metadata": {},
   "outputs": [
    {
     "data": {
      "text/plain": [
       "<AxesSubplot: xlabel='Home_Team', ylabel='count'>"
      ]
     },
     "execution_count": 20,
     "metadata": {},
     "output_type": "execute_result"
    },
    {
     "data": {
      "image/png": "[encoded data removed]",
      "text/plain": [
       "<Figure size 1200x600 with 1 Axes>"
      ]
     },
     "metadata": {},
     "output_type": "display_data"
    }
   ],
   "source": [
    "plt.figure(figsize=(12,6))\n",
    "sns.countplot(data=df, x='Home_Team')"
   ]
  },
  {
   "cell_type": "code",
   "execution_count": 21,
   "id": "88cae15f",
   "metadata": {},
   "outputs": [
    {
     "data": {
      "text/plain": [
       "<AxesSubplot: xlabel='Away_Team', ylabel='count'>"
      ]
     },
     "execution_count": 21,
     "metadata": {},
     "output_type": "execute_result"
    },
    {
     "data": {
      "image/png": "[encoded data removed]",
      "text/plain": [
       "<Figure size 1200x600 with 1 Axes>"
      ]
     },
     "metadata": {},
     "output_type": "display_data"
    }
   ],
   "source": [
    "plt.figure(figsize=(12,6))\n",
    "sns.countplot(data=df, x='Away_Team')"
   ]
  },
  {
   "cell_type": "code",
   "execution_count": 28,
   "id": "419237e7",
   "metadata": {},
   "outputs": [
    {
     "data": {
      "text/plain": [
       "<AxesSubplot: xlabel='Year', ylabel='count'>"
      ]
     },
     "execution_count": 28,
     "metadata": {},
     "output_type": "execute_result"
    },
    {
     "data": {
      "image/png": "[encoded data removed]",
      "text/plain": [
       "<Figure size 1200x600 with 1 Axes>"
      ]
     },
     "metadata": {},
     "output_type": "display_data"
    }
   ],
   "source": [
    "plt.figure(figsize=(12,6))\n",
    "sns.countplot(data=df, x='Year')"
   ]
  },
  {
   "cell_type": "code",
   "execution_count": 30,
   "id": "ab1ffdf4",
   "metadata": {},
   "outputs": [
    {
     "data": {
      "text/plain": [
       "<AxesSubplot: xlabel=' Toss_Won', ylabel='count'>"
      ]
     },
     "execution_count": 30,
     "metadata": {},
     "output_type": "execute_result"
    },
    {
     "data": {
      "image/png": "[encoded data removed]",
      "text/plain": [
       "<Figure size 1400x600 with 1 Axes>"
      ]
     },
     "metadata": {},
     "output_type": "display_data"
    }
   ],
   "source": [
    "plt.figure(figsize=(14,6))\n",
    "sns.countplot(data=df, x=' Toss_Won')"
   ]
  },
  {
   "cell_type": "code",
   "execution_count": 32,
   "id": "e12f3bac",
   "metadata": {},
   "outputs": [
    {
     "data": {
      "text/plain": [
       "<AxesSubplot: xlabel='Toss_Decision', ylabel='count'>"
      ]
     },
     "execution_count": 32,
     "metadata": {},
     "output_type": "execute_result"
    },
    {
     "data": {
      "image/png": "[encoded data removed]",
      "text/plain": [
       "<Figure size 500x500 with 1 Axes>"
      ]
     },
     "metadata": {},
     "output_type": "display_data"
    }
   ],
   "source": [
    "plt.figure(figsize=(5,5))\n",
    "sns.countplot(data=df, x='Toss_Decision')"
   ]
  },
  {
   "cell_type": "code",
   "execution_count": 34,
   "id": "0cf89cb9",
   "metadata": {},
   "outputs": [
    {
     "data": {
      "text/plain": [
       "<AxesSubplot: xlabel=' Result_Available', ylabel='count'>"
      ]
     },
     "execution_count": 34,
     "metadata": {},
     "output_type": "execute_result"
    },
    {
     "data": {
      "image/png": "[encoded data removed]",
      "text/plain": [
       "<Figure size 500x300 with 1 Axes>"
      ]
     },
     "metadata": {},
     "output_type": "display_data"
    }
   ],
   "source": [
    "plt.figure(figsize=(5,3))\n",
    "sns.countplot(data=df, x=' Result_Available')"
   ]
  },
  {
   "cell_type": "code",
   "execution_count": 35,
   "id": "15cf48ef",
   "metadata": {},
   "outputs": [
    {
     "data": {
      "text/plain": [
       "<AxesSubplot: xlabel='Won_by_India', ylabel='count'>"
      ]
     },
     "execution_count": 35,
     "metadata": {},
     "output_type": "execute_result"
    },
    {
     "data": {
      "image/png": "[encoded data removed]",
      "text/plain": [
       "<Figure size 600x600 with 1 Axes>"
      ]
     },
     "metadata": {},
     "output_type": "display_data"
    }
   ],
   "source": [
    "plt.figure(figsize=(6,6))\n",
    "sns.countplot(data=df, x='Won_by_India')"
   ]
  },
  {
   "cell_type": "markdown",
   "id": "076537d9",
   "metadata": {},
   "source": [
    "# Multivariate Analysis"
   ]
  },
  {
   "cell_type": "code",
   "execution_count": 38,
   "id": "80b91b49",
   "metadata": {},
   "outputs": [
    {
     "data": {
      "text/plain": [
       "Index(['Match_No', 'Home_Team', 'Away_Team', 'Match_Venue', 'Year',\n",
       "       ' Toss_Won', 'Toss_Decision', ' Result_Available', 'Won_by_India'],\n",
       "      dtype='object')"
      ]
     },
     "execution_count": 38,
     "metadata": {},
     "output_type": "execute_result"
    }
   ],
   "source": [
    "df.columns"
   ]
  },
  {
   "cell_type": "markdown",
   "id": "f631c301",
   "metadata": {},
   "source": [
    "# Feature Encoding is needed to perform Multivariate Analysis "
   ]
  },
  {
   "cell_type": "code",
   "execution_count": 52,
   "id": "92bb4d33",
   "metadata": {},
   "outputs": [
    {
     "data": {
      "text/html": [
       "<div>\n",
       "<style scoped>\n",
       "    .dataframe tbody tr th:only-of-type {\n",
       "        vertical-align: middle;\n",
       "    }\n",
       "\n",
       "    .dataframe tbody tr th {\n",
       "        vertical-align: top;\n",
       "    }\n",
       "\n",
       "    .dataframe thead th {\n",
       "        text-align: right;\n",
       "    }\n",
       "</style>\n",
       "<table border=\"1\" class=\"dataframe\">\n",
       "  <thead>\n",
       "    <tr style=\"text-align: right;\">\n",
       "      <th></th>\n",
       "      <th>Match_No</th>\n",
       "      <th>Home_Team</th>\n",
       "      <th>Away_Team</th>\n",
       "      <th>Match_Venue</th>\n",
       "      <th>Year</th>\n",
       "      <th>Toss_Won</th>\n",
       "      <th>Toss_Decision</th>\n",
       "      <th>Result_Available</th>\n",
       "      <th>Won_by_India</th>\n",
       "    </tr>\n",
       "  </thead>\n",
       "  <tbody>\n",
       "    <tr>\n",
       "      <th>0</th>\n",
       "      <td>1</td>\n",
       "      <td>Zimbabwe</td>\n",
       "      <td>India</td>\n",
       "      <td>Bulawayo</td>\n",
       "      <td>2005</td>\n",
       "      <td>Zimbabwe</td>\n",
       "      <td>Batting</td>\n",
       "      <td>Available</td>\n",
       "      <td>Yes</td>\n",
       "    </tr>\n",
       "    <tr>\n",
       "      <th>1</th>\n",
       "      <td>2</td>\n",
       "      <td>Zimbabwe</td>\n",
       "      <td>India</td>\n",
       "      <td>Harare</td>\n",
       "      <td>2005</td>\n",
       "      <td>India</td>\n",
       "      <td>Bowling</td>\n",
       "      <td>Available</td>\n",
       "      <td>Yes</td>\n",
       "    </tr>\n",
       "    <tr>\n",
       "      <th>2</th>\n",
       "      <td>3</td>\n",
       "      <td>India</td>\n",
       "      <td>Pakistan</td>\n",
       "      <td>Mohali</td>\n",
       "      <td>2005</td>\n",
       "      <td>India</td>\n",
       "      <td>Batting</td>\n",
       "      <td>drawn</td>\n",
       "      <td>No</td>\n",
       "    </tr>\n",
       "    <tr>\n",
       "      <th>3</th>\n",
       "      <td>4</td>\n",
       "      <td>India</td>\n",
       "      <td>Pakistan</td>\n",
       "      <td>Kolkata</td>\n",
       "      <td>2005</td>\n",
       "      <td>India</td>\n",
       "      <td>Batting</td>\n",
       "      <td>Available</td>\n",
       "      <td>Yes</td>\n",
       "    </tr>\n",
       "    <tr>\n",
       "      <th>4</th>\n",
       "      <td>5</td>\n",
       "      <td>India</td>\n",
       "      <td>Pakistan</td>\n",
       "      <td>Bengaluru</td>\n",
       "      <td>2005</td>\n",
       "      <td>Pakistan</td>\n",
       "      <td>Batting</td>\n",
       "      <td>Available</td>\n",
       "      <td>No</td>\n",
       "    </tr>\n",
       "  </tbody>\n",
       "</table>\n",
       "</div>"
      ],
      "text/plain": [
       "   Match_No Home_Team Away_Team Match_Venue  Year  Toss_Won Toss_Decision  \\\n",
       "0         1  Zimbabwe     India    Bulawayo  2005  Zimbabwe       Batting   \n",
       "1         2  Zimbabwe     India      Harare  2005     India       Bowling   \n",
       "2         3     India  Pakistan      Mohali  2005     India       Batting   \n",
       "3         4     India  Pakistan     Kolkata  2005     India       Batting   \n",
       "4         5     India  Pakistan   Bengaluru  2005  Pakistan       Batting   \n",
       "\n",
       "   Result_Available Won_by_India  \n",
       "0         Available          Yes  \n",
       "1         Available          Yes  \n",
       "2             drawn           No  \n",
       "3         Available          Yes  \n",
       "4         Available           No  "
      ]
     },
     "execution_count": 52,
     "metadata": {},
     "output_type": "execute_result"
    }
   ],
   "source": [
    "df.head()"
   ]
  },
  {
   "cell_type": "code",
   "execution_count": 53,
   "id": "0ab37779",
   "metadata": {},
   "outputs": [],
   "source": [
    "from sklearn.preprocessing import LabelEncoder"
   ]
  },
  {
   "cell_type": "code",
   "execution_count": 54,
   "id": "2ec81268",
   "metadata": {},
   "outputs": [],
   "source": [
    "Label_Encoding = LabelEncoder()"
   ]
  },
  {
   "cell_type": "code",
   "execution_count": 60,
   "id": "09d0e7f0",
   "metadata": {},
   "outputs": [],
   "source": [
    "df_encoding = df[['Match_Venue','Toss_Decision',' Result_Available','Won_by_India']] "
   ]
  },
  {
   "cell_type": "code",
   "execution_count": 63,
   "id": "0723b8c1",
   "metadata": {},
   "outputs": [
    {
     "name": "stderr",
     "output_type": "stream",
     "text": [
      "C:\\Users\\SHREE\\AppData\\Local\\Temp\\ipykernel_3324\\1034557023.py:2: SettingWithCopyWarning: \n",
      "A value is trying to be set on a copy of a slice from a DataFrame.\n",
      "Try using .loc[row_indexer,col_indexer] = value instead\n",
      "\n",
      "See the caveats in the documentation: https://pandas.pydata.org/pandas-docs/stable/user_guide/indexing.html#returning-a-view-versus-a-copy\n",
      "  df_encoding[col] = Label_Encoding.fit_transform(df_encoding[col])\n"
     ]
    }
   ],
   "source": [
    "for col in df_encoding:\n",
    "    df_encoding[col] = Label_Encoding.fit_transform(df_encoding[col])\n"
   ]
  },
  {
   "cell_type": "code",
   "execution_count": 65,
   "id": "af70bdb7",
   "metadata": {},
   "outputs": [
    {
     "data": {
      "text/html": [
       "<div>\n",
       "<style scoped>\n",
       "    .dataframe tbody tr th:only-of-type {\n",
       "        vertical-align: middle;\n",
       "    }\n",
       "\n",
       "    .dataframe tbody tr th {\n",
       "        vertical-align: top;\n",
       "    }\n",
       "\n",
       "    .dataframe thead th {\n",
       "        text-align: right;\n",
       "    }\n",
       "</style>\n",
       "<table border=\"1\" class=\"dataframe\">\n",
       "  <thead>\n",
       "    <tr style=\"text-align: right;\">\n",
       "      <th></th>\n",
       "      <th>Match_Venue</th>\n",
       "      <th>Toss_Decision</th>\n",
       "      <th>Result_Available</th>\n",
       "      <th>Won_by_India</th>\n",
       "    </tr>\n",
       "  </thead>\n",
       "  <tbody>\n",
       "    <tr>\n",
       "      <th>176</th>\n",
       "      <td>9</td>\n",
       "      <td>0</td>\n",
       "      <td>0</td>\n",
       "      <td>0</td>\n",
       "    </tr>\n",
       "    <tr>\n",
       "      <th>24</th>\n",
       "      <td>44</td>\n",
       "      <td>1</td>\n",
       "      <td>0</td>\n",
       "      <td>1</td>\n",
       "    </tr>\n",
       "    <tr>\n",
       "      <th>63</th>\n",
       "      <td>26</td>\n",
       "      <td>0</td>\n",
       "      <td>1</td>\n",
       "      <td>0</td>\n",
       "    </tr>\n",
       "    <tr>\n",
       "      <th>82</th>\n",
       "      <td>1</td>\n",
       "      <td>0</td>\n",
       "      <td>0</td>\n",
       "      <td>1</td>\n",
       "    </tr>\n",
       "    <tr>\n",
       "      <th>117</th>\n",
       "      <td>29</td>\n",
       "      <td>0</td>\n",
       "      <td>0</td>\n",
       "      <td>1</td>\n",
       "    </tr>\n",
       "    <tr>\n",
       "      <th>103</th>\n",
       "      <td>37</td>\n",
       "      <td>0</td>\n",
       "      <td>1</td>\n",
       "      <td>0</td>\n",
       "    </tr>\n",
       "    <tr>\n",
       "      <th>125</th>\n",
       "      <td>22</td>\n",
       "      <td>0</td>\n",
       "      <td>0</td>\n",
       "      <td>1</td>\n",
       "    </tr>\n",
       "    <tr>\n",
       "      <th>151</th>\n",
       "      <td>43</td>\n",
       "      <td>1</td>\n",
       "      <td>0</td>\n",
       "      <td>1</td>\n",
       "    </tr>\n",
       "    <tr>\n",
       "      <th>4</th>\n",
       "      <td>4</td>\n",
       "      <td>0</td>\n",
       "      <td>0</td>\n",
       "      <td>0</td>\n",
       "    </tr>\n",
       "    <tr>\n",
       "      <th>114</th>\n",
       "      <td>31</td>\n",
       "      <td>0</td>\n",
       "      <td>1</td>\n",
       "      <td>0</td>\n",
       "    </tr>\n",
       "  </tbody>\n",
       "</table>\n",
       "</div>"
      ],
      "text/plain": [
       "     Match_Venue  Toss_Decision   Result_Available  Won_by_India\n",
       "176            9              0                  0             0\n",
       "24            44              1                  0             1\n",
       "63            26              0                  1             0\n",
       "82             1              0                  0             1\n",
       "117           29              0                  0             1\n",
       "103           37              0                  1             0\n",
       "125           22              0                  0             1\n",
       "151           43              1                  0             1\n",
       "4              4              0                  0             0\n",
       "114           31              0                  1             0"
      ]
     },
     "execution_count": 65,
     "metadata": {},
     "output_type": "execute_result"
    }
   ],
   "source": [
    "df_encoding.sample(10)"
   ]
  },
  {
   "cell_type": "code",
   "execution_count": 75,
   "id": "789210af",
   "metadata": {},
   "outputs": [],
   "source": [
    "#Before concating new feature to existing dataframe, First we need to remove old features form dataframe"
   ]
  },
  {
   "cell_type": "code",
   "execution_count": 77,
   "id": "125735d5",
   "metadata": {},
   "outputs": [
    {
     "data": {
      "text/html": [
       "<div>\n",
       "<style scoped>\n",
       "    .dataframe tbody tr th:only-of-type {\n",
       "        vertical-align: middle;\n",
       "    }\n",
       "\n",
       "    .dataframe tbody tr th {\n",
       "        vertical-align: top;\n",
       "    }\n",
       "\n",
       "    .dataframe thead th {\n",
       "        text-align: right;\n",
       "    }\n",
       "</style>\n",
       "<table border=\"1\" class=\"dataframe\">\n",
       "  <thead>\n",
       "    <tr style=\"text-align: right;\">\n",
       "      <th></th>\n",
       "      <th>Match_No</th>\n",
       "      <th>Home_Team</th>\n",
       "      <th>Away_Team</th>\n",
       "      <th>Match_Venue</th>\n",
       "      <th>Year</th>\n",
       "      <th>Toss_Won</th>\n",
       "      <th>Toss_Decision</th>\n",
       "      <th>Result_Available</th>\n",
       "      <th>Won_by_India</th>\n",
       "    </tr>\n",
       "  </thead>\n",
       "  <tbody>\n",
       "    <tr>\n",
       "      <th>0</th>\n",
       "      <td>1</td>\n",
       "      <td>Zimbabwe</td>\n",
       "      <td>India</td>\n",
       "      <td>Bulawayo</td>\n",
       "      <td>2005</td>\n",
       "      <td>Zimbabwe</td>\n",
       "      <td>Batting</td>\n",
       "      <td>Available</td>\n",
       "      <td>Yes</td>\n",
       "    </tr>\n",
       "    <tr>\n",
       "      <th>1</th>\n",
       "      <td>2</td>\n",
       "      <td>Zimbabwe</td>\n",
       "      <td>India</td>\n",
       "      <td>Harare</td>\n",
       "      <td>2005</td>\n",
       "      <td>India</td>\n",
       "      <td>Bowling</td>\n",
       "      <td>Available</td>\n",
       "      <td>Yes</td>\n",
       "    </tr>\n",
       "    <tr>\n",
       "      <th>2</th>\n",
       "      <td>3</td>\n",
       "      <td>India</td>\n",
       "      <td>Pakistan</td>\n",
       "      <td>Mohali</td>\n",
       "      <td>2005</td>\n",
       "      <td>India</td>\n",
       "      <td>Batting</td>\n",
       "      <td>drawn</td>\n",
       "      <td>No</td>\n",
       "    </tr>\n",
       "    <tr>\n",
       "      <th>3</th>\n",
       "      <td>4</td>\n",
       "      <td>India</td>\n",
       "      <td>Pakistan</td>\n",
       "      <td>Kolkata</td>\n",
       "      <td>2005</td>\n",
       "      <td>India</td>\n",
       "      <td>Batting</td>\n",
       "      <td>Available</td>\n",
       "      <td>Yes</td>\n",
       "    </tr>\n",
       "    <tr>\n",
       "      <th>4</th>\n",
       "      <td>5</td>\n",
       "      <td>India</td>\n",
       "      <td>Pakistan</td>\n",
       "      <td>Bengaluru</td>\n",
       "      <td>2005</td>\n",
       "      <td>Pakistan</td>\n",
       "      <td>Batting</td>\n",
       "      <td>Available</td>\n",
       "      <td>No</td>\n",
       "    </tr>\n",
       "  </tbody>\n",
       "</table>\n",
       "</div>"
      ],
      "text/plain": [
       "   Match_No Home_Team Away_Team Match_Venue  Year  Toss_Won Toss_Decision  \\\n",
       "0         1  Zimbabwe     India    Bulawayo  2005  Zimbabwe       Batting   \n",
       "1         2  Zimbabwe     India      Harare  2005     India       Bowling   \n",
       "2         3     India  Pakistan      Mohali  2005     India       Batting   \n",
       "3         4     India  Pakistan     Kolkata  2005     India       Batting   \n",
       "4         5     India  Pakistan   Bengaluru  2005  Pakistan       Batting   \n",
       "\n",
       "   Result_Available Won_by_India  \n",
       "0         Available          Yes  \n",
       "1         Available          Yes  \n",
       "2             drawn           No  \n",
       "3         Available          Yes  \n",
       "4         Available           No  "
      ]
     },
     "execution_count": 77,
     "metadata": {},
     "output_type": "execute_result"
    }
   ],
   "source": [
    "df.head()"
   ]
  },
  {
   "cell_type": "code",
   "execution_count": 80,
   "id": "033f0ee7",
   "metadata": {},
   "outputs": [],
   "source": [
    "df.drop(columns = ['Match_Venue','Toss_Decision',' Result_Available','Won_by_India'],axis=1, inplace=True)"
   ]
  },
  {
   "cell_type": "code",
   "execution_count": 81,
   "id": "b06016fd",
   "metadata": {},
   "outputs": [
    {
     "data": {
      "text/html": [
       "<div>\n",
       "<style scoped>\n",
       "    .dataframe tbody tr th:only-of-type {\n",
       "        vertical-align: middle;\n",
       "    }\n",
       "\n",
       "    .dataframe tbody tr th {\n",
       "        vertical-align: top;\n",
       "    }\n",
       "\n",
       "    .dataframe thead th {\n",
       "        text-align: right;\n",
       "    }\n",
       "</style>\n",
       "<table border=\"1\" class=\"dataframe\">\n",
       "  <thead>\n",
       "    <tr style=\"text-align: right;\">\n",
       "      <th></th>\n",
       "      <th>Match_No</th>\n",
       "      <th>Home_Team</th>\n",
       "      <th>Away_Team</th>\n",
       "      <th>Year</th>\n",
       "      <th>Toss_Won</th>\n",
       "    </tr>\n",
       "  </thead>\n",
       "  <tbody>\n",
       "    <tr>\n",
       "      <th>0</th>\n",
       "      <td>1</td>\n",
       "      <td>Zimbabwe</td>\n",
       "      <td>India</td>\n",
       "      <td>2005</td>\n",
       "      <td>Zimbabwe</td>\n",
       "    </tr>\n",
       "    <tr>\n",
       "      <th>1</th>\n",
       "      <td>2</td>\n",
       "      <td>Zimbabwe</td>\n",
       "      <td>India</td>\n",
       "      <td>2005</td>\n",
       "      <td>India</td>\n",
       "    </tr>\n",
       "    <tr>\n",
       "      <th>2</th>\n",
       "      <td>3</td>\n",
       "      <td>India</td>\n",
       "      <td>Pakistan</td>\n",
       "      <td>2005</td>\n",
       "      <td>India</td>\n",
       "    </tr>\n",
       "    <tr>\n",
       "      <th>3</th>\n",
       "      <td>4</td>\n",
       "      <td>India</td>\n",
       "      <td>Pakistan</td>\n",
       "      <td>2005</td>\n",
       "      <td>India</td>\n",
       "    </tr>\n",
       "    <tr>\n",
       "      <th>4</th>\n",
       "      <td>5</td>\n",
       "      <td>India</td>\n",
       "      <td>Pakistan</td>\n",
       "      <td>2005</td>\n",
       "      <td>Pakistan</td>\n",
       "    </tr>\n",
       "  </tbody>\n",
       "</table>\n",
       "</div>"
      ],
      "text/plain": [
       "   Match_No Home_Team Away_Team  Year  Toss_Won\n",
       "0         1  Zimbabwe     India  2005  Zimbabwe\n",
       "1         2  Zimbabwe     India  2005     India\n",
       "2         3     India  Pakistan  2005     India\n",
       "3         4     India  Pakistan  2005     India\n",
       "4         5     India  Pakistan  2005  Pakistan"
      ]
     },
     "execution_count": 81,
     "metadata": {},
     "output_type": "execute_result"
    }
   ],
   "source": [
    "df.head()"
   ]
  },
  {
   "cell_type": "code",
   "execution_count": 85,
   "id": "a6917294",
   "metadata": {},
   "outputs": [],
   "source": [
    "new_df = new_df.iloc[0: ,9:]"
   ]
  },
  {
   "cell_type": "code",
   "execution_count": 86,
   "id": "254ea198",
   "metadata": {},
   "outputs": [
    {
     "data": {
      "text/html": [
       "<div>\n",
       "<style scoped>\n",
       "    .dataframe tbody tr th:only-of-type {\n",
       "        vertical-align: middle;\n",
       "    }\n",
       "\n",
       "    .dataframe tbody tr th {\n",
       "        vertical-align: top;\n",
       "    }\n",
       "\n",
       "    .dataframe thead th {\n",
       "        text-align: right;\n",
       "    }\n",
       "</style>\n",
       "<table border=\"1\" class=\"dataframe\">\n",
       "  <thead>\n",
       "    <tr style=\"text-align: right;\">\n",
       "      <th></th>\n",
       "      <th>Match_Venue</th>\n",
       "      <th>Toss_Decision</th>\n",
       "      <th>Result_Available</th>\n",
       "      <th>Won_by_India</th>\n",
       "    </tr>\n",
       "  </thead>\n",
       "  <tbody>\n",
       "    <tr>\n",
       "      <th>0</th>\n",
       "      <td>8</td>\n",
       "      <td>0</td>\n",
       "      <td>0</td>\n",
       "      <td>1</td>\n",
       "    </tr>\n",
       "    <tr>\n",
       "      <th>1</th>\n",
       "      <td>25</td>\n",
       "      <td>1</td>\n",
       "      <td>0</td>\n",
       "      <td>1</td>\n",
       "    </tr>\n",
       "    <tr>\n",
       "      <th>2</th>\n",
       "      <td>39</td>\n",
       "      <td>0</td>\n",
       "      <td>1</td>\n",
       "      <td>0</td>\n",
       "    </tr>\n",
       "    <tr>\n",
       "      <th>3</th>\n",
       "      <td>32</td>\n",
       "      <td>0</td>\n",
       "      <td>0</td>\n",
       "      <td>1</td>\n",
       "    </tr>\n",
       "    <tr>\n",
       "      <th>4</th>\n",
       "      <td>4</td>\n",
       "      <td>0</td>\n",
       "      <td>0</td>\n",
       "      <td>0</td>\n",
       "    </tr>\n",
       "  </tbody>\n",
       "</table>\n",
       "</div>"
      ],
      "text/plain": [
       "   Match_Venue  Toss_Decision   Result_Available  Won_by_India\n",
       "0            8              0                  0             1\n",
       "1           25              1                  0             1\n",
       "2           39              0                  1             0\n",
       "3           32              0                  0             1\n",
       "4            4              0                  0             0"
      ]
     },
     "execution_count": 86,
     "metadata": {},
     "output_type": "execute_result"
    }
   ],
   "source": [
    "new_df.head()"
   ]
  },
  {
   "cell_type": "code",
   "execution_count": 87,
   "id": "5b12dc55",
   "metadata": {},
   "outputs": [],
   "source": [
    "final_df = pd.concat([df,new_df],axis=1)"
   ]
  },
  {
   "cell_type": "code",
   "execution_count": 88,
   "id": "e270ad54",
   "metadata": {},
   "outputs": [
    {
     "data": {
      "text/html": [
       "<div>\n",
       "<style scoped>\n",
       "    .dataframe tbody tr th:only-of-type {\n",
       "        vertical-align: middle;\n",
       "    }\n",
       "\n",
       "    .dataframe tbody tr th {\n",
       "        vertical-align: top;\n",
       "    }\n",
       "\n",
       "    .dataframe thead th {\n",
       "        text-align: right;\n",
       "    }\n",
       "</style>\n",
       "<table border=\"1\" class=\"dataframe\">\n",
       "  <thead>\n",
       "    <tr style=\"text-align: right;\">\n",
       "      <th></th>\n",
       "      <th>Match_No</th>\n",
       "      <th>Home_Team</th>\n",
       "      <th>Away_Team</th>\n",
       "      <th>Year</th>\n",
       "      <th>Toss_Won</th>\n",
       "      <th>Match_Venue</th>\n",
       "      <th>Toss_Decision</th>\n",
       "      <th>Result_Available</th>\n",
       "      <th>Won_by_India</th>\n",
       "    </tr>\n",
       "  </thead>\n",
       "  <tbody>\n",
       "    <tr>\n",
       "      <th>0</th>\n",
       "      <td>1</td>\n",
       "      <td>Zimbabwe</td>\n",
       "      <td>India</td>\n",
       "      <td>2005</td>\n",
       "      <td>Zimbabwe</td>\n",
       "      <td>8</td>\n",
       "      <td>0</td>\n",
       "      <td>0</td>\n",
       "      <td>1</td>\n",
       "    </tr>\n",
       "    <tr>\n",
       "      <th>1</th>\n",
       "      <td>2</td>\n",
       "      <td>Zimbabwe</td>\n",
       "      <td>India</td>\n",
       "      <td>2005</td>\n",
       "      <td>India</td>\n",
       "      <td>25</td>\n",
       "      <td>1</td>\n",
       "      <td>0</td>\n",
       "      <td>1</td>\n",
       "    </tr>\n",
       "    <tr>\n",
       "      <th>2</th>\n",
       "      <td>3</td>\n",
       "      <td>India</td>\n",
       "      <td>Pakistan</td>\n",
       "      <td>2005</td>\n",
       "      <td>India</td>\n",
       "      <td>39</td>\n",
       "      <td>0</td>\n",
       "      <td>1</td>\n",
       "      <td>0</td>\n",
       "    </tr>\n",
       "    <tr>\n",
       "      <th>3</th>\n",
       "      <td>4</td>\n",
       "      <td>India</td>\n",
       "      <td>Pakistan</td>\n",
       "      <td>2005</td>\n",
       "      <td>India</td>\n",
       "      <td>32</td>\n",
       "      <td>0</td>\n",
       "      <td>0</td>\n",
       "      <td>1</td>\n",
       "    </tr>\n",
       "    <tr>\n",
       "      <th>4</th>\n",
       "      <td>5</td>\n",
       "      <td>India</td>\n",
       "      <td>Pakistan</td>\n",
       "      <td>2005</td>\n",
       "      <td>Pakistan</td>\n",
       "      <td>4</td>\n",
       "      <td>0</td>\n",
       "      <td>0</td>\n",
       "      <td>0</td>\n",
       "    </tr>\n",
       "  </tbody>\n",
       "</table>\n",
       "</div>"
      ],
      "text/plain": [
       "   Match_No Home_Team Away_Team  Year  Toss_Won  Match_Venue  Toss_Decision  \\\n",
       "0         1  Zimbabwe     India  2005  Zimbabwe            8              0   \n",
       "1         2  Zimbabwe     India  2005     India           25              1   \n",
       "2         3     India  Pakistan  2005     India           39              0   \n",
       "3         4     India  Pakistan  2005     India           32              0   \n",
       "4         5     India  Pakistan  2005  Pakistan            4              0   \n",
       "\n",
       "    Result_Available  Won_by_India  \n",
       "0                  0             1  \n",
       "1                  0             1  \n",
       "2                  1             0  \n",
       "3                  0             1  \n",
       "4                  0             0  "
      ]
     },
     "execution_count": 88,
     "metadata": {},
     "output_type": "execute_result"
    }
   ],
   "source": [
    "final_df.head()"
   ]
  },
  {
   "cell_type": "code",
   "execution_count": 89,
   "id": "9f29447e",
   "metadata": {},
   "outputs": [],
   "source": [
    "#Using mapping technique to encode remaining features."
   ]
  },
  {
   "cell_type": "code",
   "execution_count": 94,
   "id": "01bdd98a",
   "metadata": {},
   "outputs": [
    {
     "data": {
      "text/plain": [
       "India           85\n",
       "England         22\n",
       "Australia       20\n",
       "South_Africa    14\n",
       "West_Indies     13\n",
       "Sri_Lanka       12\n",
       "Bangladesh       7\n",
       "New_Zealand      7\n",
       "Pakistan         3\n",
       "Zimbabwe         2\n",
       "Name: Home_Team, dtype: int64"
      ]
     },
     "execution_count": 94,
     "metadata": {},
     "output_type": "execute_result"
    }
   ],
   "source": [
    "df['Home_Team'].value_counts()"
   ]
  },
  {
   "cell_type": "code",
   "execution_count": 95,
   "id": "67ad7616",
   "metadata": {},
   "outputs": [
    {
     "data": {
      "text/plain": [
       "India           100\n",
       "England          18\n",
       "Australia        17\n",
       "South_Africa     12\n",
       "Sri_Lanka        11\n",
       "New_Zealand      10\n",
       "West_Indies       7\n",
       "Pakistan          6\n",
       "Bangladesh        3\n",
       "Afghanistan       1\n",
       "Name: Away_Team, dtype: int64"
      ]
     },
     "execution_count": 95,
     "metadata": {},
     "output_type": "execute_result"
    }
   ],
   "source": [
    "df['Away_Team'].value_counts()"
   ]
  },
  {
   "cell_type": "code",
   "execution_count": 96,
   "id": "8ec25e54",
   "metadata": {},
   "outputs": [],
   "source": [
    "mapping = {'India':1,'England':2,'Australia':3,'South_Africa':4,\n",
    "           'West_Indies':5,'Sri_Lanka':6,'Bangladesh':7,'New_Zealand':8,'Pakistan':9,'Zimbabwe':10,'Afghanistan':11}"
   ]
  },
  {
   "cell_type": "code",
   "execution_count": 99,
   "id": "21f8e37a",
   "metadata": {},
   "outputs": [],
   "source": [
    "final_df['Home_Team'] = final_df['Home_Team'].map(mapping)"
   ]
  },
  {
   "cell_type": "code",
   "execution_count": 101,
   "id": "5911f6f1",
   "metadata": {},
   "outputs": [],
   "source": [
    "final_df['Away_Team'] = final_df['Away_Team'].map(mapping)"
   ]
  },
  {
   "cell_type": "code",
   "execution_count": 103,
   "id": "8a662dfa",
   "metadata": {},
   "outputs": [],
   "source": [
    "final_df[' Toss_Won'] = final_df[' Toss_Won'].map(mapping)"
   ]
  },
  {
   "cell_type": "code",
   "execution_count": 104,
   "id": "5d76be89",
   "metadata": {},
   "outputs": [
    {
     "data": {
      "text/html": [
       "<div>\n",
       "<style scoped>\n",
       "    .dataframe tbody tr th:only-of-type {\n",
       "        vertical-align: middle;\n",
       "    }\n",
       "\n",
       "    .dataframe tbody tr th {\n",
       "        vertical-align: top;\n",
       "    }\n",
       "\n",
       "    .dataframe thead th {\n",
       "        text-align: right;\n",
       "    }\n",
       "</style>\n",
       "<table border=\"1\" class=\"dataframe\">\n",
       "  <thead>\n",
       "    <tr style=\"text-align: right;\">\n",
       "      <th></th>\n",
       "      <th>Match_No</th>\n",
       "      <th>Home_Team</th>\n",
       "      <th>Away_Team</th>\n",
       "      <th>Year</th>\n",
       "      <th>Toss_Won</th>\n",
       "      <th>Match_Venue</th>\n",
       "      <th>Toss_Decision</th>\n",
       "      <th>Result_Available</th>\n",
       "      <th>Won_by_India</th>\n",
       "    </tr>\n",
       "  </thead>\n",
       "  <tbody>\n",
       "    <tr>\n",
       "      <th>0</th>\n",
       "      <td>1</td>\n",
       "      <td>10</td>\n",
       "      <td>1</td>\n",
       "      <td>2005</td>\n",
       "      <td>10.0</td>\n",
       "      <td>8</td>\n",
       "      <td>0</td>\n",
       "      <td>0</td>\n",
       "      <td>1</td>\n",
       "    </tr>\n",
       "    <tr>\n",
       "      <th>1</th>\n",
       "      <td>2</td>\n",
       "      <td>10</td>\n",
       "      <td>1</td>\n",
       "      <td>2005</td>\n",
       "      <td>1.0</td>\n",
       "      <td>25</td>\n",
       "      <td>1</td>\n",
       "      <td>0</td>\n",
       "      <td>1</td>\n",
       "    </tr>\n",
       "    <tr>\n",
       "      <th>2</th>\n",
       "      <td>3</td>\n",
       "      <td>1</td>\n",
       "      <td>9</td>\n",
       "      <td>2005</td>\n",
       "      <td>1.0</td>\n",
       "      <td>39</td>\n",
       "      <td>0</td>\n",
       "      <td>1</td>\n",
       "      <td>0</td>\n",
       "    </tr>\n",
       "    <tr>\n",
       "      <th>3</th>\n",
       "      <td>4</td>\n",
       "      <td>1</td>\n",
       "      <td>9</td>\n",
       "      <td>2005</td>\n",
       "      <td>1.0</td>\n",
       "      <td>32</td>\n",
       "      <td>0</td>\n",
       "      <td>0</td>\n",
       "      <td>1</td>\n",
       "    </tr>\n",
       "    <tr>\n",
       "      <th>4</th>\n",
       "      <td>5</td>\n",
       "      <td>1</td>\n",
       "      <td>9</td>\n",
       "      <td>2005</td>\n",
       "      <td>9.0</td>\n",
       "      <td>4</td>\n",
       "      <td>0</td>\n",
       "      <td>0</td>\n",
       "      <td>0</td>\n",
       "    </tr>\n",
       "  </tbody>\n",
       "</table>\n",
       "</div>"
      ],
      "text/plain": [
       "   Match_No  Home_Team  Away_Team  Year   Toss_Won  Match_Venue  \\\n",
       "0         1         10          1  2005       10.0            8   \n",
       "1         2         10          1  2005        1.0           25   \n",
       "2         3          1          9  2005        1.0           39   \n",
       "3         4          1          9  2005        1.0           32   \n",
       "4         5          1          9  2005        9.0            4   \n",
       "\n",
       "   Toss_Decision   Result_Available  Won_by_India  \n",
       "0              0                  0             1  \n",
       "1              1                  0             1  \n",
       "2              0                  1             0  \n",
       "3              0                  0             1  \n",
       "4              0                  0             0  "
      ]
     },
     "execution_count": 104,
     "metadata": {},
     "output_type": "execute_result"
    }
   ],
   "source": [
    "final_df.head()"
   ]
  },
  {
   "cell_type": "code",
   "execution_count": 105,
   "id": "069cdae3",
   "metadata": {},
   "outputs": [
    {
     "data": {
      "text/plain": [
       "Match_No               int64\n",
       "Home_Team              int64\n",
       "Away_Team              int64\n",
       "Year                   int64\n",
       " Toss_Won            float64\n",
       "Match_Venue            int32\n",
       "Toss_Decision          int32\n",
       " Result_Available      int32\n",
       "Won_by_India           int32\n",
       "dtype: object"
      ]
     },
     "execution_count": 105,
     "metadata": {},
     "output_type": "execute_result"
    }
   ],
   "source": [
    "final_df.dtypes"
   ]
  },
  {
   "cell_type": "code",
   "execution_count": 118,
   "id": "9c5106f3",
   "metadata": {},
   "outputs": [
    {
     "name": "stdout",
     "output_type": "stream",
     "text": [
      "<class 'pandas.core.frame.DataFrame'>\n",
      "RangeIndex: 185 entries, 0 to 184\n",
      "Data columns (total 9 columns):\n",
      " #   Column             Non-Null Count  Dtype  \n",
      "---  ------             --------------  -----  \n",
      " 0   Match_No           185 non-null    int64  \n",
      " 1   Home_Team          185 non-null    int64  \n",
      " 2   Away_Team          185 non-null    int64  \n",
      " 3   Year               185 non-null    int64  \n",
      " 4    Toss_Won          172 non-null    float64\n",
      " 5   Match_Venue        185 non-null    int32  \n",
      " 6   Toss_Decision      185 non-null    int32  \n",
      " 7    Result_Available  185 non-null    int32  \n",
      " 8   Won_by_India       185 non-null    int32  \n",
      "dtypes: float64(1), int32(4), int64(4)\n",
      "memory usage: 10.2 KB\n"
     ]
    }
   ],
   "source": [
    "final_df.info()"
   ]
  },
  {
   "cell_type": "code",
   "execution_count": 120,
   "id": "e284633b",
   "metadata": {},
   "outputs": [
    {
     "data": {
      "text/plain": [
       "13"
      ]
     },
     "execution_count": 120,
     "metadata": {},
     "output_type": "execute_result"
    }
   ],
   "source": [
    "final_df[' Toss_Won'].isnull().sum()"
   ]
  },
  {
   "cell_type": "code",
   "execution_count": 123,
   "id": "67676b0c",
   "metadata": {},
   "outputs": [
    {
     "data": {
      "text/plain": [
       "Match_No              0\n",
       "Home_Team             0\n",
       "Away_Team             0\n",
       "Year                  0\n",
       " Toss_Won            13\n",
       "Match_Venue           0\n",
       "Toss_Decision         0\n",
       " Result_Available     0\n",
       "Won_by_India          0\n",
       "dtype: int64"
      ]
     },
     "execution_count": 123,
     "metadata": {},
     "output_type": "execute_result"
    }
   ],
   "source": [
    "final_df.isnull().sum()"
   ]
  },
  {
   "cell_type": "code",
   "execution_count": 131,
   "id": "0981aa40",
   "metadata": {},
   "outputs": [],
   "source": [
    "final_df.drop(' Toss_Won',axis=1,inplace=True)"
   ]
  },
  {
   "cell_type": "code",
   "execution_count": 138,
   "id": "dcb698fa",
   "metadata": {},
   "outputs": [],
   "source": [
    "y = pd.concat([final_df,df[' Toss_Won']],axis=1)"
   ]
  },
  {
   "cell_type": "code",
   "execution_count": 139,
   "id": "a1c18193",
   "metadata": {},
   "outputs": [
    {
     "data": {
      "text/plain": [
       "India           79\n",
       "England         25\n",
       "Australia       24\n",
       "West_Indies     11\n",
       "India           10\n",
       "South_Africa     9\n",
       "Sri_Lanka        9\n",
       "New_Zealand      7\n",
       "Bangladesh       6\n",
       "Pakistan         3\n",
       "Zimbabwe         1\n",
       "Pakistan         1\n",
       "Name:  Toss_Won, dtype: int64"
      ]
     },
     "execution_count": 139,
     "metadata": {},
     "output_type": "execute_result"
    }
   ],
   "source": [
    "y[' Toss_Won'].value_counts()"
   ]
  },
  {
   "cell_type": "code",
   "execution_count": 150,
   "id": "8a0a46ed",
   "metadata": {},
   "outputs": [],
   "source": [
    "mapping = {'India':1,'India ':1,'England':2,'Australia':3,'South_Africa':4,\n",
    "           'West_Indies':5,'Sri_Lanka':6,'Bangladesh':7,'New_Zealand':8,'Pakistan':9,'Pakistan ':9,'Zimbabwe':10,'Afghanistan':11}"
   ]
  },
  {
   "cell_type": "code",
   "execution_count": 151,
   "id": "698685a0",
   "metadata": {},
   "outputs": [],
   "source": [
    "df[' Toss_Won'] = df[' Toss_Won'].map(mapping)"
   ]
  },
  {
   "cell_type": "code",
   "execution_count": 153,
   "id": "139491a0",
   "metadata": {},
   "outputs": [
    {
     "data": {
      "text/plain": [
       "Match_No             0\n",
       "Home_Team            0\n",
       "Away_Team            0\n",
       "Match_Venue          0\n",
       "Year                 0\n",
       " Toss_Won            0\n",
       "Toss_Decision        0\n",
       " Result_Available    0\n",
       "Won_by_India         0\n",
       "dtype: int64"
      ]
     },
     "execution_count": 153,
     "metadata": {},
     "output_type": "execute_result"
    }
   ],
   "source": [
    "df.isnull().sum()"
   ]
  },
  {
   "cell_type": "code",
   "execution_count": 154,
   "id": "79da5f83",
   "metadata": {},
   "outputs": [],
   "source": [
    "df = pd.concat([final_df,df[' Toss_Won']],axis=1)"
   ]
  },
  {
   "cell_type": "code",
   "execution_count": 155,
   "id": "7c02e3ba",
   "metadata": {},
   "outputs": [
    {
     "data": {
      "text/html": [
       "<div>\n",
       "<style scoped>\n",
       "    .dataframe tbody tr th:only-of-type {\n",
       "        vertical-align: middle;\n",
       "    }\n",
       "\n",
       "    .dataframe tbody tr th {\n",
       "        vertical-align: top;\n",
       "    }\n",
       "\n",
       "    .dataframe thead th {\n",
       "        text-align: right;\n",
       "    }\n",
       "</style>\n",
       "<table border=\"1\" class=\"dataframe\">\n",
       "  <thead>\n",
       "    <tr style=\"text-align: right;\">\n",
       "      <th></th>\n",
       "      <th>Match_No</th>\n",
       "      <th>Home_Team</th>\n",
       "      <th>Away_Team</th>\n",
       "      <th>Year</th>\n",
       "      <th>Match_Venue</th>\n",
       "      <th>Toss_Decision</th>\n",
       "      <th>Result_Available</th>\n",
       "      <th>Won_by_India</th>\n",
       "      <th>Toss_Won</th>\n",
       "    </tr>\n",
       "  </thead>\n",
       "  <tbody>\n",
       "    <tr>\n",
       "      <th>0</th>\n",
       "      <td>1</td>\n",
       "      <td>10</td>\n",
       "      <td>1</td>\n",
       "      <td>2005</td>\n",
       "      <td>8</td>\n",
       "      <td>0</td>\n",
       "      <td>0</td>\n",
       "      <td>1</td>\n",
       "      <td>10</td>\n",
       "    </tr>\n",
       "    <tr>\n",
       "      <th>1</th>\n",
       "      <td>2</td>\n",
       "      <td>10</td>\n",
       "      <td>1</td>\n",
       "      <td>2005</td>\n",
       "      <td>25</td>\n",
       "      <td>1</td>\n",
       "      <td>0</td>\n",
       "      <td>1</td>\n",
       "      <td>1</td>\n",
       "    </tr>\n",
       "    <tr>\n",
       "      <th>2</th>\n",
       "      <td>3</td>\n",
       "      <td>1</td>\n",
       "      <td>9</td>\n",
       "      <td>2005</td>\n",
       "      <td>39</td>\n",
       "      <td>0</td>\n",
       "      <td>1</td>\n",
       "      <td>0</td>\n",
       "      <td>1</td>\n",
       "    </tr>\n",
       "    <tr>\n",
       "      <th>3</th>\n",
       "      <td>4</td>\n",
       "      <td>1</td>\n",
       "      <td>9</td>\n",
       "      <td>2005</td>\n",
       "      <td>32</td>\n",
       "      <td>0</td>\n",
       "      <td>0</td>\n",
       "      <td>1</td>\n",
       "      <td>1</td>\n",
       "    </tr>\n",
       "    <tr>\n",
       "      <th>4</th>\n",
       "      <td>5</td>\n",
       "      <td>1</td>\n",
       "      <td>9</td>\n",
       "      <td>2005</td>\n",
       "      <td>4</td>\n",
       "      <td>0</td>\n",
       "      <td>0</td>\n",
       "      <td>0</td>\n",
       "      <td>9</td>\n",
       "    </tr>\n",
       "  </tbody>\n",
       "</table>\n",
       "</div>"
      ],
      "text/plain": [
       "   Match_No  Home_Team  Away_Team  Year  Match_Venue  Toss_Decision  \\\n",
       "0         1         10          1  2005            8              0   \n",
       "1         2         10          1  2005           25              1   \n",
       "2         3          1          9  2005           39              0   \n",
       "3         4          1          9  2005           32              0   \n",
       "4         5          1          9  2005            4              0   \n",
       "\n",
       "    Result_Available  Won_by_India   Toss_Won  \n",
       "0                  0             1         10  \n",
       "1                  0             1          1  \n",
       "2                  1             0          1  \n",
       "3                  0             1          1  \n",
       "4                  0             0          9  "
      ]
     },
     "execution_count": 155,
     "metadata": {},
     "output_type": "execute_result"
    }
   ],
   "source": [
    "df.head()"
   ]
  },
  {
   "cell_type": "code",
   "execution_count": null,
   "id": "a3230efa",
   "metadata": {},
   "outputs": [],
   "source": [
    "#Checking all data types"
   ]
  },
  {
   "cell_type": "code",
   "execution_count": 156,
   "id": "8d70b07e",
   "metadata": {},
   "outputs": [
    {
     "name": "stdout",
     "output_type": "stream",
     "text": [
      "<class 'pandas.core.frame.DataFrame'>\n",
      "RangeIndex: 185 entries, 0 to 184\n",
      "Data columns (total 9 columns):\n",
      " #   Column             Non-Null Count  Dtype\n",
      "---  ------             --------------  -----\n",
      " 0   Match_No           185 non-null    int64\n",
      " 1   Home_Team          185 non-null    int64\n",
      " 2   Away_Team          185 non-null    int64\n",
      " 3   Year               185 non-null    int64\n",
      " 4   Match_Venue        185 non-null    int32\n",
      " 5   Toss_Decision      185 non-null    int32\n",
      " 6    Result_Available  185 non-null    int32\n",
      " 7   Won_by_India       185 non-null    int32\n",
      " 8    Toss_Won          185 non-null    int64\n",
      "dtypes: int32(4), int64(5)\n",
      "memory usage: 10.2 KB\n"
     ]
    }
   ],
   "source": [
    "df.info()"
   ]
  },
  {
   "cell_type": "markdown",
   "id": "3b2c80e6",
   "metadata": {},
   "source": [
    "# Finding Relationship between features"
   ]
  },
  {
   "cell_type": "code",
   "execution_count": 157,
   "id": "73d006ca",
   "metadata": {},
   "outputs": [
    {
     "data": {
      "text/html": [
       "<div>\n",
       "<style scoped>\n",
       "    .dataframe tbody tr th:only-of-type {\n",
       "        vertical-align: middle;\n",
       "    }\n",
       "\n",
       "    .dataframe tbody tr th {\n",
       "        vertical-align: top;\n",
       "    }\n",
       "\n",
       "    .dataframe thead th {\n",
       "        text-align: right;\n",
       "    }\n",
       "</style>\n",
       "<table border=\"1\" class=\"dataframe\">\n",
       "  <thead>\n",
       "    <tr style=\"text-align: right;\">\n",
       "      <th></th>\n",
       "      <th>Match_No</th>\n",
       "      <th>Home_Team</th>\n",
       "      <th>Away_Team</th>\n",
       "      <th>Year</th>\n",
       "      <th>Match_Venue</th>\n",
       "      <th>Toss_Decision</th>\n",
       "      <th>Result_Available</th>\n",
       "      <th>Won_by_India</th>\n",
       "      <th>Toss_Won</th>\n",
       "    </tr>\n",
       "  </thead>\n",
       "  <tbody>\n",
       "    <tr>\n",
       "      <th>Match_No</th>\n",
       "      <td>1.000000</td>\n",
       "      <td>-0.185618</td>\n",
       "      <td>-0.037931</td>\n",
       "      <td>0.997290</td>\n",
       "      <td>0.094648</td>\n",
       "      <td>-0.004181</td>\n",
       "      <td>-0.247990</td>\n",
       "      <td>0.181810</td>\n",
       "      <td>-0.122732</td>\n",
       "    </tr>\n",
       "    <tr>\n",
       "      <th>Home_Team</th>\n",
       "      <td>-0.185618</td>\n",
       "      <td>1.000000</td>\n",
       "      <td>-0.557745</td>\n",
       "      <td>-0.145557</td>\n",
       "      <td>-0.071600</td>\n",
       "      <td>0.301318</td>\n",
       "      <td>0.080808</td>\n",
       "      <td>-0.140772</td>\n",
       "      <td>0.325672</td>\n",
       "    </tr>\n",
       "    <tr>\n",
       "      <th>Away_Team</th>\n",
       "      <td>-0.037931</td>\n",
       "      <td>-0.557745</td>\n",
       "      <td>1.000000</td>\n",
       "      <td>-0.066775</td>\n",
       "      <td>-0.104861</td>\n",
       "      <td>-0.256740</td>\n",
       "      <td>0.031405</td>\n",
       "      <td>0.237622</td>\n",
       "      <td>0.039723</td>\n",
       "    </tr>\n",
       "    <tr>\n",
       "      <th>Year</th>\n",
       "      <td>0.997290</td>\n",
       "      <td>-0.145557</td>\n",
       "      <td>-0.066775</td>\n",
       "      <td>1.000000</td>\n",
       "      <td>0.089466</td>\n",
       "      <td>0.003558</td>\n",
       "      <td>-0.242115</td>\n",
       "      <td>0.171503</td>\n",
       "      <td>-0.118856</td>\n",
       "    </tr>\n",
       "    <tr>\n",
       "      <th>Match_Venue</th>\n",
       "      <td>0.094648</td>\n",
       "      <td>-0.071600</td>\n",
       "      <td>-0.104861</td>\n",
       "      <td>0.089466</td>\n",
       "      <td>1.000000</td>\n",
       "      <td>0.090145</td>\n",
       "      <td>0.077972</td>\n",
       "      <td>-0.040883</td>\n",
       "      <td>-0.061866</td>\n",
       "    </tr>\n",
       "    <tr>\n",
       "      <th>Toss_Decision</th>\n",
       "      <td>-0.004181</td>\n",
       "      <td>0.301318</td>\n",
       "      <td>-0.256740</td>\n",
       "      <td>0.003558</td>\n",
       "      <td>0.090145</td>\n",
       "      <td>1.000000</td>\n",
       "      <td>-0.079239</td>\n",
       "      <td>-0.048137</td>\n",
       "      <td>0.098553</td>\n",
       "    </tr>\n",
       "    <tr>\n",
       "      <th>Result_Available</th>\n",
       "      <td>-0.247990</td>\n",
       "      <td>0.080808</td>\n",
       "      <td>0.031405</td>\n",
       "      <td>-0.242115</td>\n",
       "      <td>0.077972</td>\n",
       "      <td>-0.079239</td>\n",
       "      <td>1.000000</td>\n",
       "      <td>-0.566015</td>\n",
       "      <td>0.036598</td>\n",
       "    </tr>\n",
       "    <tr>\n",
       "      <th>Won_by_India</th>\n",
       "      <td>0.181810</td>\n",
       "      <td>-0.140772</td>\n",
       "      <td>0.237622</td>\n",
       "      <td>0.171503</td>\n",
       "      <td>-0.040883</td>\n",
       "      <td>-0.048137</td>\n",
       "      <td>-0.566015</td>\n",
       "      <td>1.000000</td>\n",
       "      <td>-0.009224</td>\n",
       "    </tr>\n",
       "    <tr>\n",
       "      <th>Toss_Won</th>\n",
       "      <td>-0.122732</td>\n",
       "      <td>0.325672</td>\n",
       "      <td>0.039723</td>\n",
       "      <td>-0.118856</td>\n",
       "      <td>-0.061866</td>\n",
       "      <td>0.098553</td>\n",
       "      <td>0.036598</td>\n",
       "      <td>-0.009224</td>\n",
       "      <td>1.000000</td>\n",
       "    </tr>\n",
       "  </tbody>\n",
       "</table>\n",
       "</div>"
      ],
      "text/plain": [
       "                   Match_No  Home_Team  Away_Team      Year  Match_Venue  \\\n",
       "Match_No           1.000000  -0.185618  -0.037931  0.997290     0.094648   \n",
       "Home_Team         -0.185618   1.000000  -0.557745 -0.145557    -0.071600   \n",
       "Away_Team         -0.037931  -0.557745   1.000000 -0.066775    -0.104861   \n",
       "Year               0.997290  -0.145557  -0.066775  1.000000     0.089466   \n",
       "Match_Venue        0.094648  -0.071600  -0.104861  0.089466     1.000000   \n",
       "Toss_Decision     -0.004181   0.301318  -0.256740  0.003558     0.090145   \n",
       " Result_Available -0.247990   0.080808   0.031405 -0.242115     0.077972   \n",
       "Won_by_India       0.181810  -0.140772   0.237622  0.171503    -0.040883   \n",
       " Toss_Won         -0.122732   0.325672   0.039723 -0.118856    -0.061866   \n",
       "\n",
       "                   Toss_Decision   Result_Available  Won_by_India   Toss_Won  \n",
       "Match_No               -0.004181          -0.247990      0.181810  -0.122732  \n",
       "Home_Team               0.301318           0.080808     -0.140772   0.325672  \n",
       "Away_Team              -0.256740           0.031405      0.237622   0.039723  \n",
       "Year                    0.003558          -0.242115      0.171503  -0.118856  \n",
       "Match_Venue             0.090145           0.077972     -0.040883  -0.061866  \n",
       "Toss_Decision           1.000000          -0.079239     -0.048137   0.098553  \n",
       " Result_Available      -0.079239           1.000000     -0.566015   0.036598  \n",
       "Won_by_India           -0.048137          -0.566015      1.000000  -0.009224  \n",
       " Toss_Won               0.098553           0.036598     -0.009224   1.000000  "
      ]
     },
     "execution_count": 157,
     "metadata": {},
     "output_type": "execute_result"
    }
   ],
   "source": [
    "#Correlation Matrix to find out the relationship between each and every features of the dataset\n",
    "\n",
    "df.corr()"
   ]
  },
  {
   "cell_type": "code",
   "execution_count": 158,
   "id": "559b40e8",
   "metadata": {},
   "outputs": [],
   "source": [
    "#ploting Heatmap to see the relationship"
   ]
  },
  {
   "cell_type": "code",
   "execution_count": 162,
   "id": "ecf63852",
   "metadata": {},
   "outputs": [
    {
     "data": {
      "text/plain": [
       "<AxesSubplot: >"
      ]
     },
     "execution_count": 162,
     "metadata": {},
     "output_type": "execute_result"
    },
    {
     "data": {
      "image/png": "[encoded data removed]",
      "text/plain": [
       "<Figure size 640x480 with 2 Axes>"
      ]
     },
     "metadata": {},
     "output_type": "display_data"
    }
   ],
   "source": [
    "sns.heatmap(df.corr(),annot=True)"
   ]
  },
  {
   "cell_type": "code",
   "execution_count": 163,
   "id": "8ba4c351",
   "metadata": {},
   "outputs": [],
   "source": [
    "#Cleaning irrelavant features"
   ]
  },
  {
   "cell_type": "code",
   "execution_count": 164,
   "id": "35f7d96d",
   "metadata": {},
   "outputs": [
    {
     "data": {
      "text/html": [
       "<div>\n",
       "<style scoped>\n",
       "    .dataframe tbody tr th:only-of-type {\n",
       "        vertical-align: middle;\n",
       "    }\n",
       "\n",
       "    .dataframe tbody tr th {\n",
       "        vertical-align: top;\n",
       "    }\n",
       "\n",
       "    .dataframe thead th {\n",
       "        text-align: right;\n",
       "    }\n",
       "</style>\n",
       "<table border=\"1\" class=\"dataframe\">\n",
       "  <thead>\n",
       "    <tr style=\"text-align: right;\">\n",
       "      <th></th>\n",
       "      <th>Match_No</th>\n",
       "      <th>Home_Team</th>\n",
       "      <th>Away_Team</th>\n",
       "      <th>Year</th>\n",
       "      <th>Match_Venue</th>\n",
       "      <th>Toss_Decision</th>\n",
       "      <th>Result_Available</th>\n",
       "      <th>Won_by_India</th>\n",
       "      <th>Toss_Won</th>\n",
       "    </tr>\n",
       "  </thead>\n",
       "  <tbody>\n",
       "    <tr>\n",
       "      <th>0</th>\n",
       "      <td>1</td>\n",
       "      <td>10</td>\n",
       "      <td>1</td>\n",
       "      <td>2005</td>\n",
       "      <td>8</td>\n",
       "      <td>0</td>\n",
       "      <td>0</td>\n",
       "      <td>1</td>\n",
       "      <td>10</td>\n",
       "    </tr>\n",
       "    <tr>\n",
       "      <th>1</th>\n",
       "      <td>2</td>\n",
       "      <td>10</td>\n",
       "      <td>1</td>\n",
       "      <td>2005</td>\n",
       "      <td>25</td>\n",
       "      <td>1</td>\n",
       "      <td>0</td>\n",
       "      <td>1</td>\n",
       "      <td>1</td>\n",
       "    </tr>\n",
       "    <tr>\n",
       "      <th>2</th>\n",
       "      <td>3</td>\n",
       "      <td>1</td>\n",
       "      <td>9</td>\n",
       "      <td>2005</td>\n",
       "      <td>39</td>\n",
       "      <td>0</td>\n",
       "      <td>1</td>\n",
       "      <td>0</td>\n",
       "      <td>1</td>\n",
       "    </tr>\n",
       "    <tr>\n",
       "      <th>3</th>\n",
       "      <td>4</td>\n",
       "      <td>1</td>\n",
       "      <td>9</td>\n",
       "      <td>2005</td>\n",
       "      <td>32</td>\n",
       "      <td>0</td>\n",
       "      <td>0</td>\n",
       "      <td>1</td>\n",
       "      <td>1</td>\n",
       "    </tr>\n",
       "    <tr>\n",
       "      <th>4</th>\n",
       "      <td>5</td>\n",
       "      <td>1</td>\n",
       "      <td>9</td>\n",
       "      <td>2005</td>\n",
       "      <td>4</td>\n",
       "      <td>0</td>\n",
       "      <td>0</td>\n",
       "      <td>0</td>\n",
       "      <td>9</td>\n",
       "    </tr>\n",
       "  </tbody>\n",
       "</table>\n",
       "</div>"
      ],
      "text/plain": [
       "   Match_No  Home_Team  Away_Team  Year  Match_Venue  Toss_Decision  \\\n",
       "0         1         10          1  2005            8              0   \n",
       "1         2         10          1  2005           25              1   \n",
       "2         3          1          9  2005           39              0   \n",
       "3         4          1          9  2005           32              0   \n",
       "4         5          1          9  2005            4              0   \n",
       "\n",
       "    Result_Available  Won_by_India   Toss_Won  \n",
       "0                  0             1         10  \n",
       "1                  0             1          1  \n",
       "2                  1             0          1  \n",
       "3                  0             1          1  \n",
       "4                  0             0          9  "
      ]
     },
     "execution_count": 164,
     "metadata": {},
     "output_type": "execute_result"
    }
   ],
   "source": [
    "df.head()"
   ]
  },
  {
   "cell_type": "code",
   "execution_count": 165,
   "id": "c9e40ae4",
   "metadata": {},
   "outputs": [],
   "source": [
    "df.drop('Match_No',axis=1,inplace=True)"
   ]
  },
  {
   "cell_type": "code",
   "execution_count": 166,
   "id": "f27413e3",
   "metadata": {},
   "outputs": [
    {
     "data": {
      "text/html": [
       "<div>\n",
       "<style scoped>\n",
       "    .dataframe tbody tr th:only-of-type {\n",
       "        vertical-align: middle;\n",
       "    }\n",
       "\n",
       "    .dataframe tbody tr th {\n",
       "        vertical-align: top;\n",
       "    }\n",
       "\n",
       "    .dataframe thead th {\n",
       "        text-align: right;\n",
       "    }\n",
       "</style>\n",
       "<table border=\"1\" class=\"dataframe\">\n",
       "  <thead>\n",
       "    <tr style=\"text-align: right;\">\n",
       "      <th></th>\n",
       "      <th>Home_Team</th>\n",
       "      <th>Away_Team</th>\n",
       "      <th>Year</th>\n",
       "      <th>Match_Venue</th>\n",
       "      <th>Toss_Decision</th>\n",
       "      <th>Result_Available</th>\n",
       "      <th>Won_by_India</th>\n",
       "      <th>Toss_Won</th>\n",
       "    </tr>\n",
       "  </thead>\n",
       "  <tbody>\n",
       "    <tr>\n",
       "      <th>0</th>\n",
       "      <td>10</td>\n",
       "      <td>1</td>\n",
       "      <td>2005</td>\n",
       "      <td>8</td>\n",
       "      <td>0</td>\n",
       "      <td>0</td>\n",
       "      <td>1</td>\n",
       "      <td>10</td>\n",
       "    </tr>\n",
       "    <tr>\n",
       "      <th>1</th>\n",
       "      <td>10</td>\n",
       "      <td>1</td>\n",
       "      <td>2005</td>\n",
       "      <td>25</td>\n",
       "      <td>1</td>\n",
       "      <td>0</td>\n",
       "      <td>1</td>\n",
       "      <td>1</td>\n",
       "    </tr>\n",
       "    <tr>\n",
       "      <th>2</th>\n",
       "      <td>1</td>\n",
       "      <td>9</td>\n",
       "      <td>2005</td>\n",
       "      <td>39</td>\n",
       "      <td>0</td>\n",
       "      <td>1</td>\n",
       "      <td>0</td>\n",
       "      <td>1</td>\n",
       "    </tr>\n",
       "    <tr>\n",
       "      <th>3</th>\n",
       "      <td>1</td>\n",
       "      <td>9</td>\n",
       "      <td>2005</td>\n",
       "      <td>32</td>\n",
       "      <td>0</td>\n",
       "      <td>0</td>\n",
       "      <td>1</td>\n",
       "      <td>1</td>\n",
       "    </tr>\n",
       "    <tr>\n",
       "      <th>4</th>\n",
       "      <td>1</td>\n",
       "      <td>9</td>\n",
       "      <td>2005</td>\n",
       "      <td>4</td>\n",
       "      <td>0</td>\n",
       "      <td>0</td>\n",
       "      <td>0</td>\n",
       "      <td>9</td>\n",
       "    </tr>\n",
       "  </tbody>\n",
       "</table>\n",
       "</div>"
      ],
      "text/plain": [
       "   Home_Team  Away_Team  Year  Match_Venue  Toss_Decision   Result_Available  \\\n",
       "0         10          1  2005            8              0                  0   \n",
       "1         10          1  2005           25              1                  0   \n",
       "2          1          9  2005           39              0                  1   \n",
       "3          1          9  2005           32              0                  0   \n",
       "4          1          9  2005            4              0                  0   \n",
       "\n",
       "   Won_by_India   Toss_Won  \n",
       "0             1         10  \n",
       "1             1          1  \n",
       "2             0          1  \n",
       "3             1          1  \n",
       "4             0          9  "
      ]
     },
     "execution_count": 166,
     "metadata": {},
     "output_type": "execute_result"
    }
   ],
   "source": [
    "df.head()"
   ]
  },
  {
   "cell_type": "markdown",
   "id": "428ccbeb",
   "metadata": {},
   "source": [
    "# Separating Dependent and Independent Feature"
   ]
  },
  {
   "cell_type": "code",
   "execution_count": 167,
   "id": "df4d8639",
   "metadata": {},
   "outputs": [],
   "source": [
    "X = df.drop('Won_by_India',axis=1)"
   ]
  },
  {
   "cell_type": "code",
   "execution_count": 168,
   "id": "0aeb8792",
   "metadata": {},
   "outputs": [],
   "source": [
    "y = df['Won_by_India']"
   ]
  },
  {
   "cell_type": "code",
   "execution_count": 170,
   "id": "b269c165",
   "metadata": {},
   "outputs": [
    {
     "data": {
      "text/html": [
       "<div>\n",
       "<style scoped>\n",
       "    .dataframe tbody tr th:only-of-type {\n",
       "        vertical-align: middle;\n",
       "    }\n",
       "\n",
       "    .dataframe tbody tr th {\n",
       "        vertical-align: top;\n",
       "    }\n",
       "\n",
       "    .dataframe thead th {\n",
       "        text-align: right;\n",
       "    }\n",
       "</style>\n",
       "<table border=\"1\" class=\"dataframe\">\n",
       "  <thead>\n",
       "    <tr style=\"text-align: right;\">\n",
       "      <th></th>\n",
       "      <th>Home_Team</th>\n",
       "      <th>Away_Team</th>\n",
       "      <th>Year</th>\n",
       "      <th>Match_Venue</th>\n",
       "      <th>Toss_Decision</th>\n",
       "      <th>Result_Available</th>\n",
       "      <th>Toss_Won</th>\n",
       "    </tr>\n",
       "  </thead>\n",
       "  <tbody>\n",
       "    <tr>\n",
       "      <th>0</th>\n",
       "      <td>10</td>\n",
       "      <td>1</td>\n",
       "      <td>2005</td>\n",
       "      <td>8</td>\n",
       "      <td>0</td>\n",
       "      <td>0</td>\n",
       "      <td>10</td>\n",
       "    </tr>\n",
       "    <tr>\n",
       "      <th>1</th>\n",
       "      <td>10</td>\n",
       "      <td>1</td>\n",
       "      <td>2005</td>\n",
       "      <td>25</td>\n",
       "      <td>1</td>\n",
       "      <td>0</td>\n",
       "      <td>1</td>\n",
       "    </tr>\n",
       "    <tr>\n",
       "      <th>2</th>\n",
       "      <td>1</td>\n",
       "      <td>9</td>\n",
       "      <td>2005</td>\n",
       "      <td>39</td>\n",
       "      <td>0</td>\n",
       "      <td>1</td>\n",
       "      <td>1</td>\n",
       "    </tr>\n",
       "    <tr>\n",
       "      <th>3</th>\n",
       "      <td>1</td>\n",
       "      <td>9</td>\n",
       "      <td>2005</td>\n",
       "      <td>32</td>\n",
       "      <td>0</td>\n",
       "      <td>0</td>\n",
       "      <td>1</td>\n",
       "    </tr>\n",
       "    <tr>\n",
       "      <th>4</th>\n",
       "      <td>1</td>\n",
       "      <td>9</td>\n",
       "      <td>2005</td>\n",
       "      <td>4</td>\n",
       "      <td>0</td>\n",
       "      <td>0</td>\n",
       "      <td>9</td>\n",
       "    </tr>\n",
       "  </tbody>\n",
       "</table>\n",
       "</div>"
      ],
      "text/plain": [
       "   Home_Team  Away_Team  Year  Match_Venue  Toss_Decision   Result_Available  \\\n",
       "0         10          1  2005            8              0                  0   \n",
       "1         10          1  2005           25              1                  0   \n",
       "2          1          9  2005           39              0                  1   \n",
       "3          1          9  2005           32              0                  0   \n",
       "4          1          9  2005            4              0                  0   \n",
       "\n",
       "    Toss_Won  \n",
       "0         10  \n",
       "1          1  \n",
       "2          1  \n",
       "3          1  \n",
       "4          9  "
      ]
     },
     "execution_count": 170,
     "metadata": {},
     "output_type": "execute_result"
    }
   ],
   "source": [
    "X.head()"
   ]
  },
  {
   "cell_type": "code",
   "execution_count": 171,
   "id": "b43bc16b",
   "metadata": {},
   "outputs": [
    {
     "data": {
      "text/plain": [
       "0    1\n",
       "1    1\n",
       "2    0\n",
       "3    1\n",
       "4    0\n",
       "Name: Won_by_India, dtype: int32"
      ]
     },
     "execution_count": 171,
     "metadata": {},
     "output_type": "execute_result"
    }
   ],
   "source": [
    "y.head()"
   ]
  },
  {
   "cell_type": "markdown",
   "id": "248ff6b6",
   "metadata": {},
   "source": [
    "# Splitting data into Training and Testing Dataset."
   ]
  },
  {
   "cell_type": "code",
   "execution_count": 172,
   "id": "11d9c3af",
   "metadata": {},
   "outputs": [],
   "source": [
    "from sklearn.model_selection import train_test_split"
   ]
  },
  {
   "cell_type": "code",
   "execution_count": 230,
   "id": "99319b94",
   "metadata": {},
   "outputs": [],
   "source": [
    "X_train,X_test,y_train,y_test = train_test_split(X,y,test_size=0.25,random_state=5)"
   ]
  },
  {
   "cell_type": "markdown",
   "id": "c6dad731",
   "metadata": {},
   "source": [
    "# Importing Machine Learning Algorithm to train the ML Model"
   ]
  },
  {
   "cell_type": "code",
   "execution_count": 231,
   "id": "49f319c0",
   "metadata": {},
   "outputs": [],
   "source": [
    "from sklearn.linear_model import LogisticRegression"
   ]
  },
  {
   "cell_type": "code",
   "execution_count": 232,
   "id": "5f0bfb7a",
   "metadata": {},
   "outputs": [],
   "source": [
    "LR_Model = LogisticRegression()"
   ]
  },
  {
   "cell_type": "code",
   "execution_count": 233,
   "id": "26f332b7",
   "metadata": {},
   "outputs": [
    {
     "name": "stderr",
     "output_type": "stream",
     "text": [
      "C:\\Users\\SHREE\\AppData\\Local\\Programs\\Python\\Python310\\lib\\site-packages\\sklearn\\linear_model\\_logistic.py:458: ConvergenceWarning: lbfgs failed to converge (status=1):\n",
      "STOP: TOTAL NO. of ITERATIONS REACHED LIMIT.\n",
      "\n",
      "Increase the number of iterations (max_iter) or scale the data as shown in:\n",
      "    https://scikit-learn.org/stable/modules/preprocessing.html\n",
      "Please also refer to the documentation for alternative solver options:\n",
      "    https://scikit-learn.org/stable/modules/linear_model.html#logistic-regression\n",
      "  n_iter_i = _check_optimize_result(\n"
     ]
    },
    {
     "data": {
      "text/html": [
       "<style>#sk-container-id-10 {color: black;background-color: white;}#sk-container-id-10 pre{padding: 0;}#sk-container-id-10 div.sk-toggleable {background-color: white;}#sk-container-id-10 label.sk-toggleable__label {cursor: pointer;display: block;width: 100%;margin-bottom: 0;padding: 0.3em;box-sizing: border-box;text-align: center;}#sk-container-id-10 label.sk-toggleable__label-arrow:before {content: \"▸\";float: left;margin-right: 0.25em;color: #696969;}#sk-container-id-10 label.sk-toggleable__label-arrow:hover:before {color: black;}#sk-container-id-10 div.sk-estimator:hover label.sk-toggleable__label-arrow:before {color: black;}#sk-container-id-10 div.sk-toggleable__content {max-height: 0;max-width: 0;overflow: hidden;text-align: left;background-color: #f0f8ff;}#sk-container-id-10 div.sk-toggleable__content pre {margin: 0.2em;color: black;border-radius: 0.25em;background-color: #f0f8ff;}#sk-container-id-10 input.sk-toggleable__control:checked~div.sk-toggleable__content {max-height: 200px;max-width: 100%;overflow: auto;}#sk-container-id-10 input.sk-toggleable__control:checked~label.sk-toggleable__label-arrow:before {content: \"▾\";}#sk-container-id-10 div.sk-estimator input.sk-toggleable__control:checked~label.sk-toggleable__label {background-color: #d4ebff;}#sk-container-id-10 div.sk-label input.sk-toggleable__control:checked~label.sk-toggleable__label {background-color: #d4ebff;}#sk-container-id-10 input.sk-hidden--visually {border: 0;clip: rect(1px 1px 1px 1px);clip: rect(1px, 1px, 1px, 1px);height: 1px;margin: -1px;overflow: hidden;padding: 0;position: absolute;width: 1px;}#sk-container-id-10 div.sk-estimator {font-family: monospace;background-color: #f0f8ff;border: 1px dotted black;border-radius: 0.25em;box-sizing: border-box;margin-bottom: 0.5em;}#sk-container-id-10 div.sk-estimator:hover {background-color: #d4ebff;}#sk-container-id-10 div.sk-parallel-item::after {content: \"\";width: 100%;border-bottom: 1px solid gray;flex-grow: 1;}#sk-container-id-10 div.sk-label:hover label.sk-toggleable__label {background-color: #d4ebff;}#sk-container-id-10 div.sk-serial::before {content: \"\";position: absolute;border-left: 1px solid gray;box-sizing: border-box;top: 0;bottom: 0;left: 50%;z-index: 0;}#sk-container-id-10 div.sk-serial {display: flex;flex-direction: column;align-items: center;background-color: white;padding-right: 0.2em;padding-left: 0.2em;position: relative;}#sk-container-id-10 div.sk-item {position: relative;z-index: 1;}#sk-container-id-10 div.sk-parallel {display: flex;align-items: stretch;justify-content: center;background-color: white;position: relative;}#sk-container-id-10 div.sk-item::before, #sk-container-id-10 div.sk-parallel-item::before {content: \"\";position: absolute;border-left: 1px solid gray;box-sizing: border-box;top: 0;bottom: 0;left: 50%;z-index: -1;}#sk-container-id-10 div.sk-parallel-item {display: flex;flex-direction: column;z-index: 1;position: relative;background-color: white;}#sk-container-id-10 div.sk-parallel-item:first-child::after {align-self: flex-end;width: 50%;}#sk-container-id-10 div.sk-parallel-item:last-child::after {align-self: flex-start;width: 50%;}#sk-container-id-10 div.sk-parallel-item:only-child::after {width: 0;}#sk-container-id-10 div.sk-dashed-wrapped {border: 1px dashed gray;margin: 0 0.4em 0.5em 0.4em;box-sizing: border-box;padding-bottom: 0.4em;background-color: white;}#sk-container-id-10 div.sk-label label {font-family: monospace;font-weight: bold;display: inline-block;line-height: 1.2em;}#sk-container-id-10 div.sk-label-container {text-align: center;}#sk-container-id-10 div.sk-container {/* jupyter's `normalize.less` sets `[hidden] { display: none; }` but bootstrap.min.css set `[hidden] { display: none !important; }` so we also need the `!important` here to be able to override the default hidden behavior on the sphinx rendered scikit-learn.org. See: https://github.com/scikit-learn/scikit-learn/issues/21755 */display: inline-block !important;position: relative;}#sk-container-id-10 div.sk-text-repr-fallback {display: none;}</style><div id=\"sk-container-id-10\" class=\"sk-top-container\"><div class=\"sk-text-repr-fallback\"><pre>LogisticRegression()</pre><b>In a Jupyter environment, please rerun this cell to show the HTML representation or trust the notebook. <br />On GitHub, the HTML representation is unable to render, please try loading this page with nbviewer.org.</b></div><div class=\"sk-container\" hidden><div class=\"sk-item\"><div class=\"sk-estimator sk-toggleable\"><input class=\"sk-toggleable__control sk-hidden--visually\" id=\"sk-estimator-id-10\" type=\"checkbox\" checked><label for=\"sk-estimator-id-10\" class=\"sk-toggleable__label sk-toggleable__label-arrow\">LogisticRegression</label><div class=\"sk-toggleable__content\"><pre>LogisticRegression()</pre></div></div></div></div></div>"
      ],
      "text/plain": [
       "LogisticRegression()"
      ]
     },
     "execution_count": 233,
     "metadata": {},
     "output_type": "execute_result"
    }
   ],
   "source": [
    "LR_Model.fit(X_train,y_train)"
   ]
  },
  {
   "cell_type": "code",
   "execution_count": 234,
   "id": "a7d4280a",
   "metadata": {},
   "outputs": [],
   "source": [
    "y_pred = LR_Model.predict(X_test)"
   ]
  },
  {
   "cell_type": "markdown",
   "id": "47e772da",
   "metadata": {},
   "source": [
    "# Performing Model Evaluation "
   ]
  },
  {
   "cell_type": "code",
   "execution_count": 235,
   "id": "14ecf663",
   "metadata": {},
   "outputs": [],
   "source": [
    "from sklearn.metrics import confusion_matrix, precision_score,recall_score,accuracy_score"
   ]
  },
  {
   "cell_type": "code",
   "execution_count": 236,
   "id": "cd6ca84a",
   "metadata": {},
   "outputs": [
    {
     "name": "stdout",
     "output_type": "stream",
     "text": [
      "Accuracy_Score of the model : 0.8085106382978723\n",
      "Precision_Score of the model : 0.782608695652174\n",
      "Recall_Score of the model : 0.8181818181818182\n"
     ]
    }
   ],
   "source": [
    "print(\"Accuracy_Score of the model :\", accuracy_score(y_test,y_pred))\n",
    "print(\"Precision_Score of the model :\", precision_score(y_test,y_pred))\n",
    "print(\"Recall_Score of the model :\", recall_score(y_test,y_pred))"
   ]
  },
  {
   "cell_type": "code",
   "execution_count": 237,
   "id": "caf0c9d7",
   "metadata": {},
   "outputs": [
    {
     "name": "stdout",
     "output_type": "stream",
     "text": [
      "Confusion Matrix :\n",
      " [[20  5]\n",
      " [ 4 18]]\n"
     ]
    }
   ],
   "source": [
    "print(\"Confusion Matrix :\\n\", confusion_matrix(y_test,y_pred))"
   ]
  },
  {
   "cell_type": "markdown",
   "id": "1fcb54b5",
   "metadata": {},
   "source": [
    "# Using Random Forest Algorithm"
   ]
  },
  {
   "cell_type": "code",
   "execution_count": 238,
   "id": "aa72bd85",
   "metadata": {},
   "outputs": [],
   "source": [
    "from sklearn.ensemble import RandomForestClassifier"
   ]
  },
  {
   "cell_type": "code",
   "execution_count": 239,
   "id": "e6929bf6",
   "metadata": {},
   "outputs": [],
   "source": [
    "RF_Model = RandomForestClassifier()"
   ]
  },
  {
   "cell_type": "code",
   "execution_count": 240,
   "id": "5f47ef45",
   "metadata": {},
   "outputs": [
    {
     "data": {
      "text/html": [
       "<style>#sk-container-id-11 {color: black;background-color: white;}#sk-container-id-11 pre{padding: 0;}#sk-container-id-11 div.sk-toggleable {background-color: white;}#sk-container-id-11 label.sk-toggleable__label {cursor: pointer;display: block;width: 100%;margin-bottom: 0;padding: 0.3em;box-sizing: border-box;text-align: center;}#sk-container-id-11 label.sk-toggleable__label-arrow:before {content: \"▸\";float: left;margin-right: 0.25em;color: #696969;}#sk-container-id-11 label.sk-toggleable__label-arrow:hover:before {color: black;}#sk-container-id-11 div.sk-estimator:hover label.sk-toggleable__label-arrow:before {color: black;}#sk-container-id-11 div.sk-toggleable__content {max-height: 0;max-width: 0;overflow: hidden;text-align: left;background-color: #f0f8ff;}#sk-container-id-11 div.sk-toggleable__content pre {margin: 0.2em;color: black;border-radius: 0.25em;background-color: #f0f8ff;}#sk-container-id-11 input.sk-toggleable__control:checked~div.sk-toggleable__content {max-height: 200px;max-width: 100%;overflow: auto;}#sk-container-id-11 input.sk-toggleable__control:checked~label.sk-toggleable__label-arrow:before {content: \"▾\";}#sk-container-id-11 div.sk-estimator input.sk-toggleable__control:checked~label.sk-toggleable__label {background-color: #d4ebff;}#sk-container-id-11 div.sk-label input.sk-toggleable__control:checked~label.sk-toggleable__label {background-color: #d4ebff;}#sk-container-id-11 input.sk-hidden--visually {border: 0;clip: rect(1px 1px 1px 1px);clip: rect(1px, 1px, 1px, 1px);height: 1px;margin: -1px;overflow: hidden;padding: 0;position: absolute;width: 1px;}#sk-container-id-11 div.sk-estimator {font-family: monospace;background-color: #f0f8ff;border: 1px dotted black;border-radius: 0.25em;box-sizing: border-box;margin-bottom: 0.5em;}#sk-container-id-11 div.sk-estimator:hover {background-color: #d4ebff;}#sk-container-id-11 div.sk-parallel-item::after {content: \"\";width: 100%;border-bottom: 1px solid gray;flex-grow: 1;}#sk-container-id-11 div.sk-label:hover label.sk-toggleable__label {background-color: #d4ebff;}#sk-container-id-11 div.sk-serial::before {content: \"\";position: absolute;border-left: 1px solid gray;box-sizing: border-box;top: 0;bottom: 0;left: 50%;z-index: 0;}#sk-container-id-11 div.sk-serial {display: flex;flex-direction: column;align-items: center;background-color: white;padding-right: 0.2em;padding-left: 0.2em;position: relative;}#sk-container-id-11 div.sk-item {position: relative;z-index: 1;}#sk-container-id-11 div.sk-parallel {display: flex;align-items: stretch;justify-content: center;background-color: white;position: relative;}#sk-container-id-11 div.sk-item::before, #sk-container-id-11 div.sk-parallel-item::before {content: \"\";position: absolute;border-left: 1px solid gray;box-sizing: border-box;top: 0;bottom: 0;left: 50%;z-index: -1;}#sk-container-id-11 div.sk-parallel-item {display: flex;flex-direction: column;z-index: 1;position: relative;background-color: white;}#sk-container-id-11 div.sk-parallel-item:first-child::after {align-self: flex-end;width: 50%;}#sk-container-id-11 div.sk-parallel-item:last-child::after {align-self: flex-start;width: 50%;}#sk-container-id-11 div.sk-parallel-item:only-child::after {width: 0;}#sk-container-id-11 div.sk-dashed-wrapped {border: 1px dashed gray;margin: 0 0.4em 0.5em 0.4em;box-sizing: border-box;padding-bottom: 0.4em;background-color: white;}#sk-container-id-11 div.sk-label label {font-family: monospace;font-weight: bold;display: inline-block;line-height: 1.2em;}#sk-container-id-11 div.sk-label-container {text-align: center;}#sk-container-id-11 div.sk-container {/* jupyter's `normalize.less` sets `[hidden] { display: none; }` but bootstrap.min.css set `[hidden] { display: none !important; }` so we also need the `!important` here to be able to override the default hidden behavior on the sphinx rendered scikit-learn.org. See: https://github.com/scikit-learn/scikit-learn/issues/21755 */display: inline-block !important;position: relative;}#sk-container-id-11 div.sk-text-repr-fallback {display: none;}</style><div id=\"sk-container-id-11\" class=\"sk-top-container\"><div class=\"sk-text-repr-fallback\"><pre>RandomForestClassifier()</pre><b>In a Jupyter environment, please rerun this cell to show the HTML representation or trust the notebook. <br />On GitHub, the HTML representation is unable to render, please try loading this page with nbviewer.org.</b></div><div class=\"sk-container\" hidden><div class=\"sk-item\"><div class=\"sk-estimator sk-toggleable\"><input class=\"sk-toggleable__control sk-hidden--visually\" id=\"sk-estimator-id-11\" type=\"checkbox\" checked><label for=\"sk-estimator-id-11\" class=\"sk-toggleable__label sk-toggleable__label-arrow\">RandomForestClassifier</label><div class=\"sk-toggleable__content\"><pre>RandomForestClassifier()</pre></div></div></div></div></div>"
      ],
      "text/plain": [
       "RandomForestClassifier()"
      ]
     },
     "execution_count": 240,
     "metadata": {},
     "output_type": "execute_result"
    }
   ],
   "source": [
    "RF_Model.fit(X_train,y_train)"
   ]
  },
  {
   "cell_type": "code",
   "execution_count": 241,
   "id": "129b0340",
   "metadata": {},
   "outputs": [],
   "source": [
    "y_pred2 = RF_Model.predict(X_test)"
   ]
  },
  {
   "cell_type": "code",
   "execution_count": 242,
   "id": "c0d31b64",
   "metadata": {},
   "outputs": [
    {
     "name": "stdout",
     "output_type": "stream",
     "text": [
      "Accuracy_Score of the model : 0.851063829787234\n",
      "Precision_Score of the model : 0.8260869565217391\n",
      "Recall_Score of the model : 0.8636363636363636\n",
      "Confusion Matrix :\n",
      " [[21  4]\n",
      " [ 3 19]]\n"
     ]
    }
   ],
   "source": [
    "print(\"Accuracy_Score of the model :\", accuracy_score(y_test,y_pred2))\n",
    "print(\"Precision_Score of the model :\", precision_score(y_test,y_pred2))\n",
    "print(\"Recall_Score of the model :\", recall_score(y_test,y_pred2))\n",
    "print(\"Confusion Matrix :\\n\", confusion_matrix(y_test,y_pred2))"
   ]
  },
  {
   "cell_type": "markdown",
   "id": "04e60d2b",
   "metadata": {},
   "source": [
    "# Using Decision Tree Algorithm"
   ]
  },
  {
   "cell_type": "code",
   "execution_count": 243,
   "id": "3b0841d9",
   "metadata": {},
   "outputs": [],
   "source": [
    "from sklearn.tree import DecisionTreeClassifier"
   ]
  },
  {
   "cell_type": "code",
   "execution_count": 244,
   "id": "41a1aedb",
   "metadata": {},
   "outputs": [],
   "source": [
    "DT_Model = DecisionTreeClassifier()"
   ]
  },
  {
   "cell_type": "code",
   "execution_count": 245,
   "id": "5abef7eb",
   "metadata": {},
   "outputs": [
    {
     "data": {
      "text/html": [
       "<style>#sk-container-id-12 {color: black;background-color: white;}#sk-container-id-12 pre{padding: 0;}#sk-container-id-12 div.sk-toggleable {background-color: white;}#sk-container-id-12 label.sk-toggleable__label {cursor: pointer;display: block;width: 100%;margin-bottom: 0;padding: 0.3em;box-sizing: border-box;text-align: center;}#sk-container-id-12 label.sk-toggleable__label-arrow:before {content: \"▸\";float: left;margin-right: 0.25em;color: #696969;}#sk-container-id-12 label.sk-toggleable__label-arrow:hover:before {color: black;}#sk-container-id-12 div.sk-estimator:hover label.sk-toggleable__label-arrow:before {color: black;}#sk-container-id-12 div.sk-toggleable__content {max-height: 0;max-width: 0;overflow: hidden;text-align: left;background-color: #f0f8ff;}#sk-container-id-12 div.sk-toggleable__content pre {margin: 0.2em;color: black;border-radius: 0.25em;background-color: #f0f8ff;}#sk-container-id-12 input.sk-toggleable__control:checked~div.sk-toggleable__content {max-height: 200px;max-width: 100%;overflow: auto;}#sk-container-id-12 input.sk-toggleable__control:checked~label.sk-toggleable__label-arrow:before {content: \"▾\";}#sk-container-id-12 div.sk-estimator input.sk-toggleable__control:checked~label.sk-toggleable__label {background-color: #d4ebff;}#sk-container-id-12 div.sk-label input.sk-toggleable__control:checked~label.sk-toggleable__label {background-color: #d4ebff;}#sk-container-id-12 input.sk-hidden--visually {border: 0;clip: rect(1px 1px 1px 1px);clip: rect(1px, 1px, 1px, 1px);height: 1px;margin: -1px;overflow: hidden;padding: 0;position: absolute;width: 1px;}#sk-container-id-12 div.sk-estimator {font-family: monospace;background-color: #f0f8ff;border: 1px dotted black;border-radius: 0.25em;box-sizing: border-box;margin-bottom: 0.5em;}#sk-container-id-12 div.sk-estimator:hover {background-color: #d4ebff;}#sk-container-id-12 div.sk-parallel-item::after {content: \"\";width: 100%;border-bottom: 1px solid gray;flex-grow: 1;}#sk-container-id-12 div.sk-label:hover label.sk-toggleable__label {background-color: #d4ebff;}#sk-container-id-12 div.sk-serial::before {content: \"\";position: absolute;border-left: 1px solid gray;box-sizing: border-box;top: 0;bottom: 0;left: 50%;z-index: 0;}#sk-container-id-12 div.sk-serial {display: flex;flex-direction: column;align-items: center;background-color: white;padding-right: 0.2em;padding-left: 0.2em;position: relative;}#sk-container-id-12 div.sk-item {position: relative;z-index: 1;}#sk-container-id-12 div.sk-parallel {display: flex;align-items: stretch;justify-content: center;background-color: white;position: relative;}#sk-container-id-12 div.sk-item::before, #sk-container-id-12 div.sk-parallel-item::before {content: \"\";position: absolute;border-left: 1px solid gray;box-sizing: border-box;top: 0;bottom: 0;left: 50%;z-index: -1;}#sk-container-id-12 div.sk-parallel-item {display: flex;flex-direction: column;z-index: 1;position: relative;background-color: white;}#sk-container-id-12 div.sk-parallel-item:first-child::after {align-self: flex-end;width: 50%;}#sk-container-id-12 div.sk-parallel-item:last-child::after {align-self: flex-start;width: 50%;}#sk-container-id-12 div.sk-parallel-item:only-child::after {width: 0;}#sk-container-id-12 div.sk-dashed-wrapped {border: 1px dashed gray;margin: 0 0.4em 0.5em 0.4em;box-sizing: border-box;padding-bottom: 0.4em;background-color: white;}#sk-container-id-12 div.sk-label label {font-family: monospace;font-weight: bold;display: inline-block;line-height: 1.2em;}#sk-container-id-12 div.sk-label-container {text-align: center;}#sk-container-id-12 div.sk-container {/* jupyter's `normalize.less` sets `[hidden] { display: none; }` but bootstrap.min.css set `[hidden] { display: none !important; }` so we also need the `!important` here to be able to override the default hidden behavior on the sphinx rendered scikit-learn.org. See: https://github.com/scikit-learn/scikit-learn/issues/21755 */display: inline-block !important;position: relative;}#sk-container-id-12 div.sk-text-repr-fallback {display: none;}</style><div id=\"sk-container-id-12\" class=\"sk-top-container\"><div class=\"sk-text-repr-fallback\"><pre>DecisionTreeClassifier()</pre><b>In a Jupyter environment, please rerun this cell to show the HTML representation or trust the notebook. <br />On GitHub, the HTML representation is unable to render, please try loading this page with nbviewer.org.</b></div><div class=\"sk-container\" hidden><div class=\"sk-item\"><div class=\"sk-estimator sk-toggleable\"><input class=\"sk-toggleable__control sk-hidden--visually\" id=\"sk-estimator-id-12\" type=\"checkbox\" checked><label for=\"sk-estimator-id-12\" class=\"sk-toggleable__label sk-toggleable__label-arrow\">DecisionTreeClassifier</label><div class=\"sk-toggleable__content\"><pre>DecisionTreeClassifier()</pre></div></div></div></div></div>"
      ],
      "text/plain": [
       "DecisionTreeClassifier()"
      ]
     },
     "execution_count": 245,
     "metadata": {},
     "output_type": "execute_result"
    }
   ],
   "source": [
    "DT_Model.fit(X_train,y_train)"
   ]
  },
  {
   "cell_type": "code",
   "execution_count": 246,
   "id": "7307271c",
   "metadata": {},
   "outputs": [],
   "source": [
    "y_pred3 = DT_Model.predict(X_test)"
   ]
  },
  {
   "cell_type": "code",
   "execution_count": 247,
   "id": "bf3674c4",
   "metadata": {},
   "outputs": [
    {
     "name": "stdout",
     "output_type": "stream",
     "text": [
      "Accuracy_Score of the model : 0.723404255319149\n",
      "Precision_Score of the model : 0.7368421052631579\n",
      "Recall_Score of the model : 0.6363636363636364\n",
      "Confusion Matrix :\n",
      " [[20  5]\n",
      " [ 8 14]]\n"
     ]
    }
   ],
   "source": [
    "print(\"Accuracy_Score of the model :\", accuracy_score(y_test,y_pred3))\n",
    "print(\"Precision_Score of the model :\", precision_score(y_test,y_pred3))\n",
    "print(\"Recall_Score of the model :\", recall_score(y_test,y_pred3))\n",
    "print(\"Confusion Matrix :\\n\", confusion_matrix(y_test,y_pred3))"
   ]
  },
  {
   "cell_type": "code",
   "execution_count": null,
   "id": "ed8a704c",
   "metadata": {},
   "outputs": [],
   "source": [
    "# Observations and Findings\n",
    "#  85.10 % Accuracy Score given by Random Forest Algorithm. It is better than Decision Tree and Logistic Regression.\n"
   ]
  }
 ],
 "metadata": {
  "kernelspec": {
   "display_name": "Python 3 (ipykernel)",
   "language": "python",
   "name": "python3"
  },
  "language_info": {
   "codemirror_mode": {
    "name": "ipython",
    "version": 3
   },
   "file_extension": ".py",
   "mimetype": "text/x-python",
   "name": "python",
   "nbconvert_exporter": "python",
   "pygments_lexer": "ipython3",
   "version": "3.10.7"
  }
 },
 "nbformat": 4,
 "nbformat_minor": 5
}
